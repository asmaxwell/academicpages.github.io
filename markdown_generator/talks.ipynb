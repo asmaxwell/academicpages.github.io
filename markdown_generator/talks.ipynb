{
 "cells": [
  {
   "cell_type": "markdown",
   "metadata": {
    "deletable": true,
    "editable": true
   },
   "source": [
    "# Talks markdown generator for academicpages\n",
    "\n",
    "Takes a TSV of talks with metadata and converts them for use with [academicpages.github.io](academicpages.github.io). This is an interactive Jupyter notebook ([see more info here](http://jupyter-notebook-beginner-guide.readthedocs.io/en/latest/what_is_jupyter.html)). The core python code is also in `talks.py`. Run either from the `markdown_generator` folder after replacing `talks.tsv` with one containing your data.\n",
    "\n",
    "TODO: Make this work with BibTex and other databases, rather than Stuart's non-standard TSV format and citation style."
   ]
  },
  {
   "cell_type": "code",
   "execution_count": 1,
   "metadata": {
    "collapsed": false,
    "deletable": true,
    "editable": true,
    "jupyter": {
     "outputs_hidden": false
    }
   },
   "outputs": [],
   "source": [
    "import pandas as pd\n",
    "import os"
   ]
  },
  {
   "cell_type": "markdown",
   "metadata": {},
   "source": [
    "## Data format\n",
    "\n",
    "The TSV needs to have the following columns: title, type, url_slug, venue, date, location, talk_url, description, with a header at the top. Many of these fields can be blank, but the columns must be in the TSV.\n",
    "\n",
    "- Fields that cannot be blank: `title`, `url_slug`, `date`. All else can be blank. `type` defaults to \"Talk\" \n",
    "- `date` must be formatted as YYYY-MM-DD.\n",
    "- `url_slug` will be the descriptive part of the .md file and the permalink URL for the page about the paper. \n",
    "    - The .md file will be `YYYY-MM-DD-[url_slug].md` and the permalink will be `https://[yourdomain]/talks/YYYY-MM-DD-[url_slug]`\n",
    "    - The combination of `url_slug` and `date` must be unique, as it will be the basis for your filenames\n",
    "\n",
    "This is how the raw file looks (it doesn't look pretty, use a spreadsheet or other program to edit and create)."
   ]
  },
  {
   "cell_type": "code",
   "execution_count": 4,
   "metadata": {
    "collapsed": false,
    "jupyter": {
     "outputs_hidden": false
    }
   },
   "outputs": [
    {
     "name": "stdout",
     "output_type": "stream",
     "text": [
      "title,type,url_slug,venue,date,location,talk_url,description\n",
      "Python in Research: Quantum Sensing in Strong Laser Fields,Tutorial,PythonTalk,University College London,2019-04-25,\"London, United Kingdom\",,\"Python class drop in session, example of how python can used in research\"\n",
      "Treating Branch Cuts in Quantum Trajectory Models for Photoelectron Holography,Invited Talk,ICFOTalk1,Instituto de Ciencias Fotonicas (ICFO),2019-04-25,\"Barcelona, Spain\",,\"Presenting edited version of the CQSFA, which accounts for branch cuts in the integration contour.\"\n",
      "Holography and Electron Correlation in Strong Laser Physics,Invited Talk,WuhanTalk,\"WIPM, Chinese Academy of Science\",2018-11-13,\"Wuhan, China\",,Presentation of my PhD thesis work.\n",
      "Treating Branch Cuts in Quantum Trajectory Models for Photoelectron Holography,Conference,LPhys2018,\"Annual International Laser Physics Workshop, LPHYS’18\",2018-07-16,\"University of Nottingham, United Kingdom\",,\"Presenting edited version of the CQSFA, which accounts for branch cuts in the integration contour.\"\n",
      "Quantum Interference in Below-Threshold Nonsequential Double Ionisation,Conference,Atto-FEL,Atto-FEL,2018-07-02,\"University College London, United Kingdom\",,Demonstration of interferference effects present in non-sequential double ionisation.\n",
      "Coulomb-distorted quantum orbits in photoelectron holography,Conference,AMIG2018,Atomic and Molecular Interactions Group (AMIG),2018-06-21,\"University College London, United Kingdom\",,Presenting the development of the Coulomb corrected method the CQSFA.\n",
      "Quantum Interference in Below-Threshold Nonsequential Double Ionisation,Invited Talk,ICFO2,Instituto de Ciencias Fotonicas (ICFO),2018-05-22,\"Barcelona, Spain\",,Demonstration of interferference effects present in non-sequential double ionisation.\n",
      "Quantum Interference in Below-Threshold Nonsequential Double Ionisation,Invited Talk,LPhys2018,\"Annual International Laser Physics Workshop, LPHYS’16\",2016-07-11,\"Yerevan, Armenia\",,Demonstration of interferference effects present in non-sequential double ionisation.\n",
      "Quantum Interference in Below-Threshold Nonsequential Double Ionisation,Invited Talk,WG1,WG1 Expert Meeting on Frontiers in attosecond theory: from atoms to molecules to solids,2016-04-04,\"Hans-sur-Lesse, Belgium\",,Demonstration of interferference effects present in non-sequential double ionisation.\n"
     ]
    }
   ],
   "source": [
    "!cat talks.csv"
   ]
  },
  {
   "cell_type": "markdown",
   "metadata": {},
   "source": [
    "## Import TSV\n",
    "\n",
    "Pandas makes this easy with the read_csv function. We are using a TSV, so we specify the separator as a tab, or `\\t`.\n",
    "\n",
    "I found it important to put this data in a tab-separated values format, because there are a lot of commas in this kind of data and comma-separated values can get messed up. However, you can modify the import statement, as pandas also has read_excel(), read_json(), and others."
   ]
  },
  {
   "cell_type": "code",
   "execution_count": 5,
   "metadata": {
    "collapsed": false,
    "deletable": true,
    "editable": true,
    "jupyter": {
     "outputs_hidden": false
    }
   },
   "outputs": [
    {
     "data": {
      "text/html": [
       "<div>\n",
       "<style scoped>\n",
       "    .dataframe tbody tr th:only-of-type {\n",
       "        vertical-align: middle;\n",
       "    }\n",
       "\n",
       "    .dataframe tbody tr th {\n",
       "        vertical-align: top;\n",
       "    }\n",
       "\n",
       "    .dataframe thead th {\n",
       "        text-align: right;\n",
       "    }\n",
       "</style>\n",
       "<table border=\"1\" class=\"dataframe\">\n",
       "  <thead>\n",
       "    <tr style=\"text-align: right;\">\n",
       "      <th></th>\n",
       "      <th>title</th>\n",
       "      <th>type</th>\n",
       "      <th>url_slug</th>\n",
       "      <th>venue</th>\n",
       "      <th>date</th>\n",
       "      <th>location</th>\n",
       "      <th>talk_url</th>\n",
       "      <th>description</th>\n",
       "    </tr>\n",
       "  </thead>\n",
       "  <tbody>\n",
       "    <tr>\n",
       "      <th>0</th>\n",
       "      <td>Python in Research: Quantum Sensing in Strong ...</td>\n",
       "      <td>Tutorial</td>\n",
       "      <td>PythonTalk</td>\n",
       "      <td>University College London</td>\n",
       "      <td>2019-04-25</td>\n",
       "      <td>London, United Kingdom</td>\n",
       "      <td>NaN</td>\n",
       "      <td>Python class drop in session, example of how p...</td>\n",
       "    </tr>\n",
       "    <tr>\n",
       "      <th>1</th>\n",
       "      <td>Treating Branch Cuts in Quantum Trajectory Mod...</td>\n",
       "      <td>Invited Talk</td>\n",
       "      <td>ICFOTalk1</td>\n",
       "      <td>Instituto de Ciencias Fotonicas (ICFO)</td>\n",
       "      <td>2019-04-25</td>\n",
       "      <td>Barcelona, Spain</td>\n",
       "      <td>NaN</td>\n",
       "      <td>Presenting edited version of the CQSFA, which ...</td>\n",
       "    </tr>\n",
       "    <tr>\n",
       "      <th>2</th>\n",
       "      <td>Holography and Electron Correlation in Strong ...</td>\n",
       "      <td>Invited Talk</td>\n",
       "      <td>WuhanTalk</td>\n",
       "      <td>WIPM, Chinese Academy of Science</td>\n",
       "      <td>2018-11-13</td>\n",
       "      <td>Wuhan, China</td>\n",
       "      <td>NaN</td>\n",
       "      <td>Presentation of my PhD thesis work.</td>\n",
       "    </tr>\n",
       "    <tr>\n",
       "      <th>3</th>\n",
       "      <td>Treating Branch Cuts in Quantum Trajectory Mod...</td>\n",
       "      <td>Conference</td>\n",
       "      <td>LPhys2018</td>\n",
       "      <td>Annual International Laser Physics Workshop, L...</td>\n",
       "      <td>2018-07-16</td>\n",
       "      <td>University of Nottingham, United Kingdom</td>\n",
       "      <td>NaN</td>\n",
       "      <td>Presenting edited version of the CQSFA, which ...</td>\n",
       "    </tr>\n",
       "    <tr>\n",
       "      <th>4</th>\n",
       "      <td>Quantum Interference in Below-Threshold Nonseq...</td>\n",
       "      <td>Conference</td>\n",
       "      <td>Atto-FEL</td>\n",
       "      <td>Atto-FEL</td>\n",
       "      <td>2018-07-02</td>\n",
       "      <td>University College London, United Kingdom</td>\n",
       "      <td>NaN</td>\n",
       "      <td>Demonstration of interferference effects prese...</td>\n",
       "    </tr>\n",
       "    <tr>\n",
       "      <th>5</th>\n",
       "      <td>Coulomb-distorted quantum orbits in photoelect...</td>\n",
       "      <td>Conference</td>\n",
       "      <td>AMIG2018</td>\n",
       "      <td>Atomic and Molecular Interactions Group (AMIG)</td>\n",
       "      <td>2018-06-21</td>\n",
       "      <td>University College London, United Kingdom</td>\n",
       "      <td>NaN</td>\n",
       "      <td>Presenting the development of the Coulomb corr...</td>\n",
       "    </tr>\n",
       "    <tr>\n",
       "      <th>6</th>\n",
       "      <td>Quantum Interference in Below-Threshold Nonseq...</td>\n",
       "      <td>Invited Talk</td>\n",
       "      <td>ICFO2</td>\n",
       "      <td>Instituto de Ciencias Fotonicas (ICFO)</td>\n",
       "      <td>2018-05-22</td>\n",
       "      <td>Barcelona, Spain</td>\n",
       "      <td>NaN</td>\n",
       "      <td>Demonstration of interferference effects prese...</td>\n",
       "    </tr>\n",
       "    <tr>\n",
       "      <th>7</th>\n",
       "      <td>Quantum Interference in Below-Threshold Nonseq...</td>\n",
       "      <td>Invited Talk</td>\n",
       "      <td>LPhys2018</td>\n",
       "      <td>Annual International Laser Physics Workshop, L...</td>\n",
       "      <td>2016-07-11</td>\n",
       "      <td>Yerevan, Armenia</td>\n",
       "      <td>NaN</td>\n",
       "      <td>Demonstration of interferference effects prese...</td>\n",
       "    </tr>\n",
       "    <tr>\n",
       "      <th>8</th>\n",
       "      <td>Quantum Interference in Below-Threshold Nonseq...</td>\n",
       "      <td>Invited Talk</td>\n",
       "      <td>WG1</td>\n",
       "      <td>WG1 Expert Meeting on Frontiers in attosecond ...</td>\n",
       "      <td>2016-04-04</td>\n",
       "      <td>Hans-sur-Lesse, Belgium</td>\n",
       "      <td>NaN</td>\n",
       "      <td>Demonstration of interferference effects prese...</td>\n",
       "    </tr>\n",
       "  </tbody>\n",
       "</table>\n",
       "</div>"
      ],
      "text/plain": [
       "                                               title          type  \\\n",
       "0  Python in Research: Quantum Sensing in Strong ...      Tutorial   \n",
       "1  Treating Branch Cuts in Quantum Trajectory Mod...  Invited Talk   \n",
       "2  Holography and Electron Correlation in Strong ...  Invited Talk   \n",
       "3  Treating Branch Cuts in Quantum Trajectory Mod...    Conference   \n",
       "4  Quantum Interference in Below-Threshold Nonseq...    Conference   \n",
       "5  Coulomb-distorted quantum orbits in photoelect...    Conference   \n",
       "6  Quantum Interference in Below-Threshold Nonseq...  Invited Talk   \n",
       "7  Quantum Interference in Below-Threshold Nonseq...  Invited Talk   \n",
       "8  Quantum Interference in Below-Threshold Nonseq...  Invited Talk   \n",
       "\n",
       "     url_slug                                              venue        date  \\\n",
       "0  PythonTalk                          University College London  2019-04-25   \n",
       "1   ICFOTalk1             Instituto de Ciencias Fotonicas (ICFO)  2019-04-25   \n",
       "2   WuhanTalk                   WIPM, Chinese Academy of Science  2018-11-13   \n",
       "3   LPhys2018  Annual International Laser Physics Workshop, L...  2018-07-16   \n",
       "4    Atto-FEL                                           Atto-FEL  2018-07-02   \n",
       "5    AMIG2018     Atomic and Molecular Interactions Group (AMIG)  2018-06-21   \n",
       "6       ICFO2             Instituto de Ciencias Fotonicas (ICFO)  2018-05-22   \n",
       "7   LPhys2018  Annual International Laser Physics Workshop, L...  2016-07-11   \n",
       "8         WG1  WG1 Expert Meeting on Frontiers in attosecond ...  2016-04-04   \n",
       "\n",
       "                                    location  talk_url  \\\n",
       "0                     London, United Kingdom       NaN   \n",
       "1                           Barcelona, Spain       NaN   \n",
       "2                               Wuhan, China       NaN   \n",
       "3   University of Nottingham, United Kingdom       NaN   \n",
       "4  University College London, United Kingdom       NaN   \n",
       "5  University College London, United Kingdom       NaN   \n",
       "6                           Barcelona, Spain       NaN   \n",
       "7                           Yerevan, Armenia       NaN   \n",
       "8                    Hans-sur-Lesse, Belgium       NaN   \n",
       "\n",
       "                                         description  \n",
       "0  Python class drop in session, example of how p...  \n",
       "1  Presenting edited version of the CQSFA, which ...  \n",
       "2                Presentation of my PhD thesis work.  \n",
       "3  Presenting edited version of the CQSFA, which ...  \n",
       "4  Demonstration of interferference effects prese...  \n",
       "5  Presenting the development of the Coulomb corr...  \n",
       "6  Demonstration of interferference effects prese...  \n",
       "7  Demonstration of interferference effects prese...  \n",
       "8  Demonstration of interferference effects prese...  "
      ]
     },
     "execution_count": 5,
     "metadata": {},
     "output_type": "execute_result"
    }
   ],
   "source": [
    "talks = pd.read_csv(\"talks.csv\", sep=\",\", header=0)\n",
    "talks"
   ]
  },
  {
   "cell_type": "markdown",
   "metadata": {},
   "source": [
    "## Escape special characters\n",
    "\n",
    "YAML is very picky about how it takes a valid string, so we are replacing single and double quotes (and ampersands) with their HTML encoded equivilents. This makes them look not so readable in raw format, but they are parsed and rendered nicely."
   ]
  },
  {
   "cell_type": "code",
   "execution_count": 6,
   "metadata": {
    "collapsed": false,
    "deletable": true,
    "editable": true,
    "jupyter": {
     "outputs_hidden": false
    }
   },
   "outputs": [],
   "source": [
    "html_escape_table = {\n",
    "    \"&\": \"&amp;\",\n",
    "    '\"': \"&quot;\",\n",
    "    \"'\": \"&apos;\"\n",
    "    }\n",
    "\n",
    "def html_escape(text):\n",
    "    if type(text) is str:\n",
    "        return \"\".join(html_escape_table.get(c,c) for c in text)\n",
    "    else:\n",
    "        return \"False\""
   ]
  },
  {
   "cell_type": "markdown",
   "metadata": {},
   "source": [
    "## Creating the markdown files\n",
    "\n",
    "This is where the heavy lifting is done. This loops through all the rows in the TSV dataframe, then starts to concatentate a big string (```md```) that contains the markdown for each type. It does the YAML metadata first, then does the description for the individual page."
   ]
  },
  {
   "cell_type": "code",
   "execution_count": 7,
   "metadata": {
    "collapsed": false,
    "deletable": true,
    "editable": true,
    "jupyter": {
     "outputs_hidden": false
    }
   },
   "outputs": [],
   "source": [
    "loc_dict = {}\n",
    "\n",
    "for row, item in talks.iterrows():\n",
    "    \n",
    "    md_filename = str(item.date) + \"-\" + item.url_slug + \".md\"\n",
    "    html_filename = str(item.date) + \"-\" + item.url_slug \n",
    "    year = item.date[:4]\n",
    "    \n",
    "    md = \"---\\ntitle: \\\"\"   + item.title + '\"\\n'\n",
    "    md += \"collection: talks\" + \"\\n\"\n",
    "    \n",
    "    if len(str(item.type)) > 3:\n",
    "        md += 'type: \"' + item.type + '\"\\n'\n",
    "    else:\n",
    "        md += 'type: \"Talk\"\\n'\n",
    "    \n",
    "    md += \"permalink: /talks/\" + html_filename + \"\\n\"\n",
    "    \n",
    "    if len(str(item.venue)) > 3:\n",
    "        md += 'venue: \"' + item.venue + '\"\\n'\n",
    "        \n",
    "    if len(str(item.location)) > 3:\n",
    "        md += \"date: \" + str(item.date) + \"\\n\"\n",
    "    \n",
    "    if len(str(item.location)) > 3:\n",
    "        md += 'location: \"' + str(item.location) + '\"\\n'\n",
    "           \n",
    "    md += \"---\\n\"\n",
    "    \n",
    "    \n",
    "    if len(str(item.talk_url)) > 3:\n",
    "        md += \"\\n[More information here](\" + item.talk_url + \")\\n\" \n",
    "        \n",
    "    \n",
    "    if len(str(item.description)) > 3:\n",
    "        md += \"\\n\" + html_escape(item.description) + \"\\n\"\n",
    "        \n",
    "        \n",
    "    md_filename = os.path.basename(md_filename)\n",
    "    #print(md)\n",
    "    \n",
    "    with open(\"../_talks/\" + md_filename, 'w') as f:\n",
    "        f.write(md)"
   ]
  },
  {
   "cell_type": "markdown",
   "metadata": {},
   "source": [
    "These files are in the talks directory, one directory below where we're working from."
   ]
  },
  {
   "cell_type": "code",
   "execution_count": 8,
   "metadata": {
    "collapsed": false,
    "deletable": true,
    "editable": true,
    "jupyter": {
     "outputs_hidden": false
    }
   },
   "outputs": [
    {
     "name": "stdout",
     "output_type": "stream",
     "text": [
      "2016-04-04-WG1.md\t 2018-06-21-AMIG2018.md   2018-11-13-WuhanTalk.md\n",
      "2016-07-11-LPhys2018.md  2018-07-02-Atto-FEL.md   2019-04-25-ICFOTalk1.md\n",
      "2018-05-22-ICFO2.md\t 2018-07-16-LPhys2018.md  2019-04-25-PythonTalk.md\n"
     ]
    }
   ],
   "source": [
    "!ls ../_talks"
   ]
  },
  {
   "cell_type": "code",
   "execution_count": 9,
   "metadata": {
    "collapsed": false,
    "deletable": true,
    "editable": true,
    "jupyter": {
     "outputs_hidden": false
    }
   },
   "outputs": [
    {
     "name": "stdout",
     "output_type": "stream",
     "text": [
      "cat: ../_talks/2013-03-01-tutorial-1.md: No such file or directory\n"
     ]
    }
   ],
   "source": [
    "!cat ../_talks/2013-03-01-tutorial-1.md"
   ]
  },
  {
   "cell_type": "code",
   "execution_count": null,
   "metadata": {},
   "outputs": [],
   "source": []
  }
 ],
 "metadata": {
  "kernelspec": {
   "display_name": "Python 3",
   "language": "python",
   "name": "python3"
  },
  "language_info": {
   "codemirror_mode": {
    "name": "ipython",
    "version": 3
   },
   "file_extension": ".py",
   "mimetype": "text/x-python",
   "name": "python",
   "nbconvert_exporter": "python",
   "pygments_lexer": "ipython3",
   "version": "3.7.6"
  }
 },
 "nbformat": 4,
 "nbformat_minor": 4
}

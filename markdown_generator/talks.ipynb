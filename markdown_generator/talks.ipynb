{
 "cells": [
  {
   "cell_type": "markdown",
   "metadata": {
    "deletable": true,
    "editable": true
   },
   "source": [
    "# Talks markdown generator for academicpages\n",
    "\n",
    "Takes a TSV of talks with metadata and converts them for use with [academicpages.github.io](academicpages.github.io). This is an interactive Jupyter notebook ([see more info here](http://jupyter-notebook-beginner-guide.readthedocs.io/en/latest/what_is_jupyter.html)). The core python code is also in `talks.py`. Run either from the `markdown_generator` folder after replacing `talks.tsv` with one containing your data.\n",
    "\n",
    "TODO: Make this work with BibTex and other databases, rather than Stuart's non-standard TSV format and citation style."
   ]
  },
  {
   "cell_type": "code",
   "execution_count": 1,
   "metadata": {
    "collapsed": false,
    "deletable": true,
    "editable": true,
    "jupyter": {
     "outputs_hidden": false
    }
   },
   "outputs": [],
   "source": [
    "import pandas as pd\n",
    "import os"
   ]
  },
  {
   "cell_type": "markdown",
   "metadata": {},
   "source": [
    "## Data format\n",
    "\n",
    "The TSV needs to have the following columns: title, type, url_slug, venue, date, location, talk_url, description, with a header at the top. Many of these fields can be blank, but the columns must be in the TSV.\n",
    "\n",
    "- Fields that cannot be blank: `title`, `url_slug`, `date`. All else can be blank. `type` defaults to \"Talk\" \n",
    "- `date` must be formatted as YYYY-MM-DD.\n",
    "- `url_slug` will be the descriptive part of the .md file and the permalink URL for the page about the paper. \n",
    "    - The .md file will be `YYYY-MM-DD-[url_slug].md` and the permalink will be `https://[yourdomain]/talks/YYYY-MM-DD-[url_slug]`\n",
    "    - The combination of `url_slug` and `date` must be unique, as it will be the basis for your filenames\n",
    "\n",
    "This is how the raw file looks (it doesn't look pretty, use a spreadsheet or other program to edit and create)."
   ]
  },
  {
   "cell_type": "code",
   "execution_count": 2,
   "metadata": {
    "collapsed": false,
    "jupyter": {
     "outputs_hidden": false
    }
   },
   "outputs": [
    {
     "name": "stdout",
     "output_type": "stream",
     "text": [
      "date,title,type,url_slug,venue,location,talk_url,description\n",
      "2016-04-04,Quantum Interference in Below-Threshold Nonsequential Double Ionisation,Invited Talk,WG1,WG1 Expert Meeting on Frontiers in attosecond theory: from atoms to molecules to solids,\"Hans-sur-Lesse, Belgium\",,Demonstration of interferference effects present in non-sequential double ionisation.\n",
      "2016-07-11,Quantum Interference in Below-Threshold Nonsequential Double Ionisation,Invited Talk,LPhys2018,\"Annual International Laser Physics Workshop, LPHYS’16\",\"Yerevan, Armenia\",,Demonstration of interferference effects present in non-sequential double ionisation.\n",
      "2018-05-22,Quantum Interference in Below-Threshold Nonsequential Double Ionisation,Invited Talk,ICFO2,Instituto de Ciencias Fotonicas (ICFO),\"Barcelona, Spain\",,Demonstration of interferference effects present in non-sequential double ionisation.\n",
      "2018-06-21,Coulomb-distorted quantum orbits in photoelectron holography,Conference,AMIG2018,Atomic and Molecular Interactions Group (AMIG),\"University College London, United Kingdom\",,Presenting the development of the Coulomb corrected method the CQSFA.\n",
      "2018-07-02,Quantum Interference in Below-Threshold Nonsequential Double Ionisation,Conference,Atto-FEL,Atto-FEL,\"University College London, United Kingdom\",,Demonstration of interferference effects present in non-sequential double ionisation.\n",
      "2018-07-16,Treating Branch Cuts in Quantum Trajectory Models for Photoelectron Holography,Conference,LPhys2018,\"Annual International Laser Physics Workshop, LPHYS’18\",\"University of Nottingham, United Kingdom\",,\"Presenting edited version of the CQSFA, which accounts for branch cuts in the integration contour.\"\n",
      "2018-11-13,Holography and Electron Correlation in Strong Laser Physics,Invited Talk,WuhanTalk,\"WIPM, Chinese Academy of Science\",\"Wuhan, China\",,Presentation of my PhD thesis work.\n",
      "2019-04-25,Python in Research: Quantum Sensing in Strong Laser Fields,Tutorial,PythonTalk,University College London,\"London, United Kingdom\",,\"Python class drop in session, example of how python can used in research\"\n",
      "2019-04-25,Treating Branch Cuts in Quantum Trajectory Models for Photoelectron Holography,Invited Talk,ICFOTalk1,Instituto de Ciencias Fotonicas (ICFO),\"Barcelona, Spain\",,\"Presenting edited version of the CQSFA, which accounts for branch cuts in the integration contour.\"\n",
      "2020-06-01,The Spiral-like Structure in Strong-Field Ionization: Unwinding Holographic Interference,Conference,DAMOP2020, APS Division of Atomic Molecular and Optical Physics (DAMOP) 2020,Virtual Conference,http://meetings.aps.org/Meeting/DAMOP20/Session/N04.6,A new interference structure presented for photoelectron holography.\n",
      "2020-07-03,Battle 3: Numerical vs Analytical Methods,Invited Talk,QBat2020,Quantum Battles in Attoscience,Virtual Conference,https://www.youtube.com/watch?v=VJnFfHVDym4&ab_channel=QuantumBattles,\"A panel discussion in a debate format on the pros and cons of ab-initio, numerical and analytical methods.\"\n",
      "2020-09-01,Quantum Estimation in Strong Fields: in situ ponderomotive sensing,Conference,Photon2020,Photon 2020,Virtual Conference,https://youtu.be/dRmk8-vE6ls,The classical and quantum Fisher information is derived for the strong field approximation to enable optimal in situ  measurements of laser intensity.\n",
      "2021-02-03,Manipulating Twisted Electrons in Strong-Field Ionization,Conference,Faraday Discussion 2021,Faraday Discussions  – Time-resolved imaging of photo-induced dynamics Faraday Discussion,Virtual Conference,https://pubs.rsc.org/en/content/articlelanding/2020/fd/d0fd00105h#!divAbstract,\"The discussion to complement the paper with the same title, examining the orbital angular momentum in strong field ionization with a view to applying it for time-resolved imaging.\"\n",
      "2021-03-16,Quantum estimation in strong fields: in situ ponderomotive sensing,Conference,APSMarchMeeting2021,APS March Meeting 2021,Virtual Conference,https://meetings.aps.org/Meeting/MAR21/Session/F28.8,We present the first derivation of quantum and classical Fisher information for attoscience to characterize the laser intensity uncertainty for in situ measurements in strong field ionization.  We demonstrate that interference effects greatly reduce the laser intensity uncertainty and suggest how to minimize uncertainties in a previous experiment.\n"
     ]
    }
   ],
   "source": [
    "!cat talks.csv"
   ]
  },
  {
   "cell_type": "markdown",
   "metadata": {},
   "source": [
    "## Import TSV\n",
    "\n",
    "Pandas makes this easy with the read_csv function. We are using a TSV, so we specify the separator as a tab, or `\\t`.\n",
    "\n",
    "I found it important to put this data in a tab-separated values format, because there are a lot of commas in this kind of data and comma-separated values can get messed up. However, you can modify the import statement, as pandas also has read_excel(), read_json(), and others."
   ]
  },
  {
   "cell_type": "code",
   "execution_count": 3,
   "metadata": {
    "collapsed": false,
    "deletable": true,
    "editable": true,
    "jupyter": {
     "outputs_hidden": false
    }
   },
   "outputs": [
    {
     "data": {
      "text/html": [
       "<div>\n",
       "<style scoped>\n",
       "    .dataframe tbody tr th:only-of-type {\n",
       "        vertical-align: middle;\n",
       "    }\n",
       "\n",
       "    .dataframe tbody tr th {\n",
       "        vertical-align: top;\n",
       "    }\n",
       "\n",
       "    .dataframe thead th {\n",
       "        text-align: right;\n",
       "    }\n",
       "</style>\n",
       "<table border=\"1\" class=\"dataframe\">\n",
       "  <thead>\n",
       "    <tr style=\"text-align: right;\">\n",
       "      <th></th>\n",
       "      <th>date</th>\n",
       "      <th>title</th>\n",
       "      <th>type</th>\n",
       "      <th>url_slug</th>\n",
       "      <th>venue</th>\n",
       "      <th>location</th>\n",
       "      <th>talk_url</th>\n",
       "      <th>description</th>\n",
       "    </tr>\n",
       "  </thead>\n",
       "  <tbody>\n",
       "    <tr>\n",
       "      <th>0</th>\n",
       "      <td>2016-04-04</td>\n",
       "      <td>Quantum Interference in Below-Threshold Nonseq...</td>\n",
       "      <td>Invited Talk</td>\n",
       "      <td>WG1</td>\n",
       "      <td>WG1 Expert Meeting on Frontiers in attosecond ...</td>\n",
       "      <td>Hans-sur-Lesse, Belgium</td>\n",
       "      <td>NaN</td>\n",
       "      <td>Demonstration of interferference effects prese...</td>\n",
       "    </tr>\n",
       "    <tr>\n",
       "      <th>1</th>\n",
       "      <td>2016-07-11</td>\n",
       "      <td>Quantum Interference in Below-Threshold Nonseq...</td>\n",
       "      <td>Invited Talk</td>\n",
       "      <td>LPhys2018</td>\n",
       "      <td>Annual International Laser Physics Workshop, L...</td>\n",
       "      <td>Yerevan, Armenia</td>\n",
       "      <td>NaN</td>\n",
       "      <td>Demonstration of interferference effects prese...</td>\n",
       "    </tr>\n",
       "    <tr>\n",
       "      <th>2</th>\n",
       "      <td>2018-05-22</td>\n",
       "      <td>Quantum Interference in Below-Threshold Nonseq...</td>\n",
       "      <td>Invited Talk</td>\n",
       "      <td>ICFO2</td>\n",
       "      <td>Instituto de Ciencias Fotonicas (ICFO)</td>\n",
       "      <td>Barcelona, Spain</td>\n",
       "      <td>NaN</td>\n",
       "      <td>Demonstration of interferference effects prese...</td>\n",
       "    </tr>\n",
       "    <tr>\n",
       "      <th>3</th>\n",
       "      <td>2018-06-21</td>\n",
       "      <td>Coulomb-distorted quantum orbits in photoelect...</td>\n",
       "      <td>Conference</td>\n",
       "      <td>AMIG2018</td>\n",
       "      <td>Atomic and Molecular Interactions Group (AMIG)</td>\n",
       "      <td>University College London, United Kingdom</td>\n",
       "      <td>NaN</td>\n",
       "      <td>Presenting the development of the Coulomb corr...</td>\n",
       "    </tr>\n",
       "    <tr>\n",
       "      <th>4</th>\n",
       "      <td>2018-07-02</td>\n",
       "      <td>Quantum Interference in Below-Threshold Nonseq...</td>\n",
       "      <td>Conference</td>\n",
       "      <td>Atto-FEL</td>\n",
       "      <td>Atto-FEL</td>\n",
       "      <td>University College London, United Kingdom</td>\n",
       "      <td>NaN</td>\n",
       "      <td>Demonstration of interferference effects prese...</td>\n",
       "    </tr>\n",
       "    <tr>\n",
       "      <th>5</th>\n",
       "      <td>2018-07-16</td>\n",
       "      <td>Treating Branch Cuts in Quantum Trajectory Mod...</td>\n",
       "      <td>Conference</td>\n",
       "      <td>LPhys2018</td>\n",
       "      <td>Annual International Laser Physics Workshop, L...</td>\n",
       "      <td>University of Nottingham, United Kingdom</td>\n",
       "      <td>NaN</td>\n",
       "      <td>Presenting edited version of the CQSFA, which ...</td>\n",
       "    </tr>\n",
       "    <tr>\n",
       "      <th>6</th>\n",
       "      <td>2018-11-13</td>\n",
       "      <td>Holography and Electron Correlation in Strong ...</td>\n",
       "      <td>Invited Talk</td>\n",
       "      <td>WuhanTalk</td>\n",
       "      <td>WIPM, Chinese Academy of Science</td>\n",
       "      <td>Wuhan, China</td>\n",
       "      <td>NaN</td>\n",
       "      <td>Presentation of my PhD thesis work.</td>\n",
       "    </tr>\n",
       "    <tr>\n",
       "      <th>7</th>\n",
       "      <td>2019-04-25</td>\n",
       "      <td>Python in Research: Quantum Sensing in Strong ...</td>\n",
       "      <td>Tutorial</td>\n",
       "      <td>PythonTalk</td>\n",
       "      <td>University College London</td>\n",
       "      <td>London, United Kingdom</td>\n",
       "      <td>NaN</td>\n",
       "      <td>Python class drop in session, example of how p...</td>\n",
       "    </tr>\n",
       "    <tr>\n",
       "      <th>8</th>\n",
       "      <td>2019-04-25</td>\n",
       "      <td>Treating Branch Cuts in Quantum Trajectory Mod...</td>\n",
       "      <td>Invited Talk</td>\n",
       "      <td>ICFOTalk1</td>\n",
       "      <td>Instituto de Ciencias Fotonicas (ICFO)</td>\n",
       "      <td>Barcelona, Spain</td>\n",
       "      <td>NaN</td>\n",
       "      <td>Presenting edited version of the CQSFA, which ...</td>\n",
       "    </tr>\n",
       "    <tr>\n",
       "      <th>9</th>\n",
       "      <td>2020-06-01</td>\n",
       "      <td>The Spiral-like Structure in Strong-Field Ioni...</td>\n",
       "      <td>Conference</td>\n",
       "      <td>DAMOP2020</td>\n",
       "      <td>APS Division of Atomic Molecular and Optical ...</td>\n",
       "      <td>Virtual Conference</td>\n",
       "      <td>http://meetings.aps.org/Meeting/DAMOP20/Sessio...</td>\n",
       "      <td>A new interference structure presented for pho...</td>\n",
       "    </tr>\n",
       "    <tr>\n",
       "      <th>10</th>\n",
       "      <td>2020-07-03</td>\n",
       "      <td>Battle 3: Numerical vs Analytical Methods</td>\n",
       "      <td>Invited Talk</td>\n",
       "      <td>QBat2020</td>\n",
       "      <td>Quantum Battles in Attoscience</td>\n",
       "      <td>Virtual Conference</td>\n",
       "      <td>https://www.youtube.com/watch?v=VJnFfHVDym4&amp;ab...</td>\n",
       "      <td>A panel discussion in a debate format on the p...</td>\n",
       "    </tr>\n",
       "    <tr>\n",
       "      <th>11</th>\n",
       "      <td>2020-09-01</td>\n",
       "      <td>Quantum Estimation in Strong Fields: in situ p...</td>\n",
       "      <td>Conference</td>\n",
       "      <td>Photon2020</td>\n",
       "      <td>Photon 2020</td>\n",
       "      <td>Virtual Conference</td>\n",
       "      <td>https://youtu.be/dRmk8-vE6ls</td>\n",
       "      <td>The classical and quantum Fisher information i...</td>\n",
       "    </tr>\n",
       "    <tr>\n",
       "      <th>12</th>\n",
       "      <td>2021-02-03</td>\n",
       "      <td>Manipulating Twisted Electrons in Strong-Field...</td>\n",
       "      <td>Conference</td>\n",
       "      <td>Faraday Discussion 2021</td>\n",
       "      <td>Faraday Discussions  – Time-resolved imaging o...</td>\n",
       "      <td>Virtual Conference</td>\n",
       "      <td>https://pubs.rsc.org/en/content/articlelanding...</td>\n",
       "      <td>The discussion to complement the paper with th...</td>\n",
       "    </tr>\n",
       "    <tr>\n",
       "      <th>13</th>\n",
       "      <td>2021-03-16</td>\n",
       "      <td>Quantum estimation in strong fields: in situ p...</td>\n",
       "      <td>Conference</td>\n",
       "      <td>APSMarchMeeting2021</td>\n",
       "      <td>APS March Meeting 2021</td>\n",
       "      <td>Virtual Conference</td>\n",
       "      <td>https://meetings.aps.org/Meeting/MAR21/Session...</td>\n",
       "      <td>We present the first derivation of quantum and...</td>\n",
       "    </tr>\n",
       "  </tbody>\n",
       "</table>\n",
       "</div>"
      ],
      "text/plain": [
       "          date                                              title  \\\n",
       "0   2016-04-04  Quantum Interference in Below-Threshold Nonseq...   \n",
       "1   2016-07-11  Quantum Interference in Below-Threshold Nonseq...   \n",
       "2   2018-05-22  Quantum Interference in Below-Threshold Nonseq...   \n",
       "3   2018-06-21  Coulomb-distorted quantum orbits in photoelect...   \n",
       "4   2018-07-02  Quantum Interference in Below-Threshold Nonseq...   \n",
       "5   2018-07-16  Treating Branch Cuts in Quantum Trajectory Mod...   \n",
       "6   2018-11-13  Holography and Electron Correlation in Strong ...   \n",
       "7   2019-04-25  Python in Research: Quantum Sensing in Strong ...   \n",
       "8   2019-04-25  Treating Branch Cuts in Quantum Trajectory Mod...   \n",
       "9   2020-06-01  The Spiral-like Structure in Strong-Field Ioni...   \n",
       "10  2020-07-03          Battle 3: Numerical vs Analytical Methods   \n",
       "11  2020-09-01  Quantum Estimation in Strong Fields: in situ p...   \n",
       "12  2021-02-03  Manipulating Twisted Electrons in Strong-Field...   \n",
       "13  2021-03-16  Quantum estimation in strong fields: in situ p...   \n",
       "\n",
       "            type                 url_slug  \\\n",
       "0   Invited Talk                      WG1   \n",
       "1   Invited Talk                LPhys2018   \n",
       "2   Invited Talk                    ICFO2   \n",
       "3     Conference                 AMIG2018   \n",
       "4     Conference                 Atto-FEL   \n",
       "5     Conference                LPhys2018   \n",
       "6   Invited Talk                WuhanTalk   \n",
       "7       Tutorial               PythonTalk   \n",
       "8   Invited Talk                ICFOTalk1   \n",
       "9     Conference                DAMOP2020   \n",
       "10  Invited Talk                 QBat2020   \n",
       "11    Conference               Photon2020   \n",
       "12    Conference  Faraday Discussion 2021   \n",
       "13    Conference      APSMarchMeeting2021   \n",
       "\n",
       "                                                venue  \\\n",
       "0   WG1 Expert Meeting on Frontiers in attosecond ...   \n",
       "1   Annual International Laser Physics Workshop, L...   \n",
       "2              Instituto de Ciencias Fotonicas (ICFO)   \n",
       "3      Atomic and Molecular Interactions Group (AMIG)   \n",
       "4                                            Atto-FEL   \n",
       "5   Annual International Laser Physics Workshop, L...   \n",
       "6                    WIPM, Chinese Academy of Science   \n",
       "7                           University College London   \n",
       "8              Instituto de Ciencias Fotonicas (ICFO)   \n",
       "9    APS Division of Atomic Molecular and Optical ...   \n",
       "10                     Quantum Battles in Attoscience   \n",
       "11                                        Photon 2020   \n",
       "12  Faraday Discussions  – Time-resolved imaging o...   \n",
       "13                             APS March Meeting 2021   \n",
       "\n",
       "                                     location  \\\n",
       "0                     Hans-sur-Lesse, Belgium   \n",
       "1                            Yerevan, Armenia   \n",
       "2                            Barcelona, Spain   \n",
       "3   University College London, United Kingdom   \n",
       "4   University College London, United Kingdom   \n",
       "5    University of Nottingham, United Kingdom   \n",
       "6                                Wuhan, China   \n",
       "7                      London, United Kingdom   \n",
       "8                            Barcelona, Spain   \n",
       "9                          Virtual Conference   \n",
       "10                         Virtual Conference   \n",
       "11                         Virtual Conference   \n",
       "12                         Virtual Conference   \n",
       "13                         Virtual Conference   \n",
       "\n",
       "                                             talk_url  \\\n",
       "0                                                 NaN   \n",
       "1                                                 NaN   \n",
       "2                                                 NaN   \n",
       "3                                                 NaN   \n",
       "4                                                 NaN   \n",
       "5                                                 NaN   \n",
       "6                                                 NaN   \n",
       "7                                                 NaN   \n",
       "8                                                 NaN   \n",
       "9   http://meetings.aps.org/Meeting/DAMOP20/Sessio...   \n",
       "10  https://www.youtube.com/watch?v=VJnFfHVDym4&ab...   \n",
       "11                       https://youtu.be/dRmk8-vE6ls   \n",
       "12  https://pubs.rsc.org/en/content/articlelanding...   \n",
       "13  https://meetings.aps.org/Meeting/MAR21/Session...   \n",
       "\n",
       "                                          description  \n",
       "0   Demonstration of interferference effects prese...  \n",
       "1   Demonstration of interferference effects prese...  \n",
       "2   Demonstration of interferference effects prese...  \n",
       "3   Presenting the development of the Coulomb corr...  \n",
       "4   Demonstration of interferference effects prese...  \n",
       "5   Presenting edited version of the CQSFA, which ...  \n",
       "6                 Presentation of my PhD thesis work.  \n",
       "7   Python class drop in session, example of how p...  \n",
       "8   Presenting edited version of the CQSFA, which ...  \n",
       "9   A new interference structure presented for pho...  \n",
       "10  A panel discussion in a debate format on the p...  \n",
       "11  The classical and quantum Fisher information i...  \n",
       "12  The discussion to complement the paper with th...  \n",
       "13  We present the first derivation of quantum and...  "
      ]
     },
     "execution_count": 3,
     "metadata": {},
     "output_type": "execute_result"
    }
   ],
   "source": [
    "talks = pd.read_csv(\"talks.csv\", sep=\",\", header=0)\n",
    "talks"
   ]
  },
  {
   "cell_type": "markdown",
   "metadata": {},
   "source": [
    "## Escape special characters\n",
    "\n",
    "YAML is very picky about how it takes a valid string, so we are replacing single and double quotes (and ampersands) with their HTML encoded equivilents. This makes them look not so readable in raw format, but they are parsed and rendered nicely."
   ]
  },
  {
   "cell_type": "code",
   "execution_count": 4,
   "metadata": {
    "collapsed": false,
    "deletable": true,
    "editable": true,
    "jupyter": {
     "outputs_hidden": false
    }
   },
   "outputs": [],
   "source": [
    "html_escape_table = {\n",
    "    \"&\": \"&amp;\",\n",
    "    '\"': \"&quot;\",\n",
    "    \"'\": \"&apos;\"\n",
    "    }\n",
    "\n",
    "def html_escape(text):\n",
    "    if type(text) is str:\n",
    "        return \"\".join(html_escape_table.get(c,c) for c in text)\n",
    "    else:\n",
    "        return \"False\""
   ]
  },
  {
   "cell_type": "markdown",
   "metadata": {},
   "source": [
    "## Creating the markdown files\n",
    "\n",
    "This is where the heavy lifting is done. This loops through all the rows in the TSV dataframe, then starts to concatentate a big string (```md```) that contains the markdown for each type. It does the YAML metadata first, then does the description for the individual page."
   ]
  },
  {
   "cell_type": "code",
   "execution_count": 5,
   "metadata": {
    "collapsed": false,
    "deletable": true,
    "editable": true,
    "jupyter": {
     "outputs_hidden": false
    }
   },
   "outputs": [],
   "source": [
    "loc_dict = {}\n",
    "\n",
    "for row, item in talks.iterrows():\n",
    "    \n",
    "    md_filename = str(item.date) + \"-\" + item.url_slug + \".md\"\n",
    "    html_filename = str(item.date) + \"-\" + item.url_slug \n",
    "    year = item.date[:4]\n",
    "    \n",
    "    md = \"---\\ntitle: \\\"\"   + item.title + '\"\\n'\n",
    "    md += \"collection: talks\" + \"\\n\"\n",
    "    \n",
    "    if len(str(item.type)) > 3:\n",
    "        md += 'type: \"' + item.type + '\"\\n'\n",
    "    else:\n",
    "        md += 'type: \"Talk\"\\n'\n",
    "    \n",
    "    md += \"permalink: /talks/\" + html_filename + \"\\n\"\n",
    "    \n",
    "    if len(str(item.venue)) > 3:\n",
    "        md += 'venue: \"' + item.venue + '\"\\n'\n",
    "        \n",
    "    if len(str(item.location)) > 3:\n",
    "        md += \"date: \" + str(item.date) + \"\\n\"\n",
    "    \n",
    "    if len(str(item.location)) > 3:\n",
    "        md += 'location: \"' + str(item.location) + '\"\\n'\n",
    "           \n",
    "    md += \"---\\n\"\n",
    "    \n",
    "    \n",
    "    if len(str(item.talk_url)) > 3:\n",
    "        md += \"\\n[See talk here](\" + item.talk_url + \")\\n\" \n",
    "        \n",
    "    \n",
    "    if len(str(item.description)) > 3:\n",
    "        md += \"\\n\" + html_escape(item.description) + \"\\n\"\n",
    "        \n",
    "        \n",
    "    md_filename = os.path.basename(md_filename)\n",
    "    #print(md)\n",
    "    \n",
    "    with open(\"../_talks/\" + md_filename, 'w') as f:\n",
    "        f.write(md)"
   ]
  },
  {
   "cell_type": "markdown",
   "metadata": {},
   "source": [
    "These files are in the talks directory, one directory below where we're working from."
   ]
  },
  {
   "cell_type": "code",
   "execution_count": 6,
   "metadata": {
    "collapsed": false,
    "deletable": true,
    "editable": true,
    "jupyter": {
     "outputs_hidden": false
    }
   },
   "outputs": [
    {
     "name": "stdout",
     "output_type": "stream",
     "text": [
      " 2016-04-04-WG1.md\t   2019-04-25-ICFOTalk1.md\n",
      " 2016-07-11-LPhys2018.md   2019-04-25-PythonTalk.md\n",
      " 2018-05-22-ICFO2.md\t   2020-06-01-DAMOP2020.md\n",
      " 2018-06-21-AMIG2018.md    2020-07-03-QBat2020.md\n",
      " 2018-07-02-Atto-FEL.md    2020-09-01-Photon2020.md\n",
      " 2018-07-16-LPhys2018.md  '2021-02-03-Faraday Discussion 2021.md'\n",
      " 2018-11-13-WuhanTalk.md   2021-03-16-APSMarchMeeting2021.md\n"
     ]
    }
   ],
   "source": [
    "!ls ../_talks"
   ]
  },
  {
   "cell_type": "code",
   "execution_count": 7,
   "metadata": {
    "collapsed": false,
    "deletable": true,
    "editable": true,
    "jupyter": {
     "outputs_hidden": false
    }
   },
   "outputs": [
    {
     "name": "stdout",
     "output_type": "stream",
     "text": [
      "cat: ../_talks/2013-03-01-tutorial-1.md: No such file or directory\n"
     ]
    }
   ],
   "source": [
    "!cat ../_talks/2013-03-01-tutorial-1.md"
   ]
  },
  {
   "cell_type": "code",
   "execution_count": null,
   "metadata": {},
   "outputs": [],
   "source": []
  },
  {
   "cell_type": "code",
   "execution_count": null,
   "metadata": {},
   "outputs": [],
   "source": []
  }
 ],
 "metadata": {
  "kernelspec": {
   "display_name": "Python 3",
   "language": "python",
   "name": "python3"
  },
  "language_info": {
   "codemirror_mode": {
    "name": "ipython",
    "version": 3
   },
   "file_extension": ".py",
   "mimetype": "text/x-python",
   "name": "python",
   "nbconvert_exporter": "python",
   "pygments_lexer": "ipython3",
   "version": "3.8.5"
  }
 },
 "nbformat": 4,
 "nbformat_minor": 4
}

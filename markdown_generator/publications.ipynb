{
 "cells": [
  {
   "cell_type": "markdown",
   "metadata": {
    "deletable": true,
    "editable": true
   },
   "source": [
    "# Publications markdown generator for academicpages\n",
    "\n",
    "Takes a TSV of publications with metadata and converts them for use with [academicpages.github.io](academicpages.github.io). This is an interactive Jupyter notebook ([see more info here](http://jupyter-notebook-beginner-guide.readthedocs.io/en/latest/what_is_jupyter.html)). The core python code is also in `publications.py`. Run either from the `markdown_generator` folder after replacing `publications.tsv` with one containing your data.\n",
    "\n",
    "TODO: Make this work with BibTex and other databases of citations, rather than Stuart's non-standard TSV format and citation style.\n"
   ]
  },
  {
   "cell_type": "markdown",
   "metadata": {},
   "source": [
    "## Data format\n",
    "\n",
    "The TSV needs to have the following columns: pub_date, title, venue, excerpt, citation, site_url, and paper_url, with a header at the top. \n",
    "\n",
    "- `excerpt` and `paper_url` can be blank, but the others must have values. \n",
    "- `pub_date` must be formatted as YYYY-MM-DD.\n",
    "- `url_slug` will be the descriptive part of the .md file and the permalink URL for the page about the paper. The .md file will be `YYYY-MM-DD-[url_slug].md` and the permalink will be `https://[yourdomain]/publications/YYYY-MM-DD-[url_slug]`\n",
    "\n",
    "This is how the raw file looks (it doesn't look pretty, use a spreadsheet or other program to edit and create)."
   ]
  },
  {
   "cell_type": "code",
   "execution_count": 1,
   "metadata": {
    "collapsed": false,
    "jupyter": {
     "outputs_hidden": false
    }
   },
   "outputs": [
    {
     "name": "stdout",
     "output_type": "stream",
     "text": [
      "pub_date\ttitle\tvenue\texcerpt\tcitation\turl_slug\tpaper_url\n",
      "2015-08-01\t\"A Systematic Study of Interference Effects in Non-Sequential\n",
      "Double Ionisation\"\tJ. Phys.: Conf. Ser.\t\tA. S. Maxwell & C. Figueira de Morisson Faria. J. Phys.: Conf. Ser., 635, 92136 (2015).\t\"A Systematic Study of Interference Effects in Non-Sequential\n",
      "Double Ionisation\"\thttps://iopscience.iop.org/article/10.1088/1742-6596/635/9/092136/meta\n",
      "2015-08-01\tOn properties of Karlsson Hadamards and sets of mutually unbiased bases in dimension six\tLinear Algebra and Its Applications,\t\tA. S. Maxwell & S. Brierley. Linear Algebra and Its Applications, 466, 296306 (2015)\tOn properties of Karlsson Hadamards and sets of mutually unbiased bases in dimension six\thttps://www.sciencedirect.com/science/article/pii/S0024379514006867\n",
      "2015-02-01\tQuantum interference in time-delayed nonsequential double ionization\tPhys. Rev. A\t\tA. S. Maxwell & C. Figueira de Morisson Faria. Phys. Rev. A, 92, 23421 (2015).\tQuantum interference in time-delayed nonsequential double ionization\thttps://journals.aps.org/pra/abstract/10.1103/PhysRevA.92.023421\n",
      "2016-08-24\tControlling Below-Threshold Nonsequential Double Ionization via Quantum Interference\tPhys. Rev. Lett.\t\tA. S. Maxwell & C. Figueira de Morisson Faria. Phys. Rev. Lett., 116, 143001 (2016)\tControlling Below-Threshold Nonsequential Double Ionization via Quantum Interference\thttps://journals.aps.org/prl/abstract/10.1103/PhysRevLett.116.143001\n",
      "2017-08-22\tCoulomb-corrected quantum interference in above-threshold ionization: Working towards multi-trajectory electron holography\tPhys. Rev. A\t\tA. S. Maxwell, A. Al-Jawahiry, T. Das & C. Figueria de Morisson Faria. Phys. Rev. A 96, 023420 (2017)\tCoulomb-corrected quantum interference in above-threshold ionization: Working towards multi-trajectory electron holography\thttps://journals.aps.org/pra/abstract/10.1103/PhysRevA.96.023420\n",
      "2018-01-26\tAnalytic quantum-interference condi- tions in Coulomb corrected photoelectron holography\tJ. Phys. B: At. Mol. Opt. Phys.\t\tA. S. Maxwell, A. Al-Jawahiry, X. Y. Lai & C. Figueria de Morisson Faria. J. Phys. B: At. Mol. Opt. Phys. 51, 044004 (2018)\tAnalytic quantum-interference condi- tions in Coulomb corrected photoelectron holography\thttps://iopscience.iop.org/article/10.1088/1361-6455/aa9e81\n",
      "2018-05-23\tAnalytic quantum-interference condi- tions in Coulomb corrected photoelectron holography\tJ. Phys. B: At. Mol. Opt. Phys.\t\tA. S. Maxwell & C. Figueria de Morisson Faria.  J. Phys. B: At. Mol. Opt. Phys. 51 124001 (2018)\tAnalytic quantum-interference condi- tions in Coulomb corrected photoelectron holography\thttps://iopscience.iop.org/article/10.1088/1361-6455/aac164/pdf\n",
      "2018-12-20\tTreating Branch Cuts in Quantum Trajectory Models for Photoelectron Holography\tPhys. Rev. A\t\tA. S. Maxwell, C. Figueira de Morisson Faria & S. V. Popruzhenko. Phys. Rev. A 98, 063423 (2018)\tTreating Branch Cuts in Quantum Trajectory Models for Photoelectron Holography\thttps://journals.aps.org/pra/abstract/10.1103/PhysRevA.98.063423\n",
      "2019-10-14\tSymphony on Strong Field Approximation\tRep. Prog. Phys. \t\tK. Amini, [et al. including A. S. Maxwell]. Rep. Prog. Phys. 82 116001 (2019)\tSymphony on Strong Field Approximation\thttps://iopscience.iop.org/article/10.1088/1361-6633/ab2bb1/meta\n",
      "2020-01-28\tIt is all about phases: ultrafast holographic photoelectron imaging\tRep. Prog. Phys. \t\tC. F. de Morisson Faria and A. S. Maxwell. Reports on Progress in Physics 83, 034401 (2020)\tIt is all about phases: ultrafast holographic photoelectron imaging\thttps://iopscience.iop.org/article/10.1088/1361-6633/ab5c91/meta\n",
      "2019-08-11\tHolographic detection of parity in atomic and molecular orbitals\tarXiv\t\tH. P. Kang, A. S. Maxwell, et al. ArXiv:1908.03860 (2019)\tHolographic detection of parity in atomic and molecular orbitals\thttps://arxiv.org/abs/1908.03860\n"
     ]
    }
   ],
   "source": [
    "!cat publications.tsv"
   ]
  },
  {
   "cell_type": "markdown",
   "metadata": {},
   "source": [
    "## Import pandas\n",
    "\n",
    "We are using the very handy pandas library for dataframes."
   ]
  },
  {
   "cell_type": "code",
   "execution_count": 2,
   "metadata": {
    "deletable": true,
    "editable": true
   },
   "outputs": [],
   "source": [
    "import pandas as pd"
   ]
  },
  {
   "cell_type": "markdown",
   "metadata": {},
   "source": [
    "## Import TSV\n",
    "\n",
    "Pandas makes this easy with the read_csv function. We are using a TSV, so we specify the separator as a tab, or `\\t`.\n",
    "\n",
    "I found it important to put this data in a tab-separated values format, because there are a lot of commas in this kind of data and comma-separated values can get messed up. However, you can modify the import statement, as pandas also has read_excel(), read_json(), and others."
   ]
  },
  {
   "cell_type": "code",
   "execution_count": 3,
   "metadata": {
    "collapsed": false,
    "deletable": true,
    "editable": true,
    "jupyter": {
     "outputs_hidden": false
    }
   },
   "outputs": [
    {
     "data": {
      "text/html": [
       "<div>\n",
       "<style scoped>\n",
       "    .dataframe tbody tr th:only-of-type {\n",
       "        vertical-align: middle;\n",
       "    }\n",
       "\n",
       "    .dataframe tbody tr th {\n",
       "        vertical-align: top;\n",
       "    }\n",
       "\n",
       "    .dataframe thead th {\n",
       "        text-align: right;\n",
       "    }\n",
       "</style>\n",
       "<table border=\"1\" class=\"dataframe\">\n",
       "  <thead>\n",
       "    <tr style=\"text-align: right;\">\n",
       "      <th></th>\n",
       "      <th>pub_date</th>\n",
       "      <th>title</th>\n",
       "      <th>venue</th>\n",
       "      <th>excerpt</th>\n",
       "      <th>citation</th>\n",
       "      <th>url_slug</th>\n",
       "      <th>paper_url</th>\n",
       "    </tr>\n",
       "  </thead>\n",
       "  <tbody>\n",
       "    <tr>\n",
       "      <th>0</th>\n",
       "      <td>2015-08-01</td>\n",
       "      <td>A Systematic Study of Interference Effects in ...</td>\n",
       "      <td>J. Phys.: Conf. Ser.</td>\n",
       "      <td>NaN</td>\n",
       "      <td>A. S. Maxwell &amp; C. Figueira de Morisson Faria....</td>\n",
       "      <td>A Systematic Study of Interference Effects in ...</td>\n",
       "      <td>https://iopscience.iop.org/article/10.1088/174...</td>\n",
       "    </tr>\n",
       "    <tr>\n",
       "      <th>1</th>\n",
       "      <td>2015-08-01</td>\n",
       "      <td>On properties of Karlsson Hadamards and sets o...</td>\n",
       "      <td>Linear Algebra and Its Applications,</td>\n",
       "      <td>NaN</td>\n",
       "      <td>A. S. Maxwell &amp; S. Brierley. Linear Algebra an...</td>\n",
       "      <td>On properties of Karlsson Hadamards and sets o...</td>\n",
       "      <td>https://www.sciencedirect.com/science/article/...</td>\n",
       "    </tr>\n",
       "    <tr>\n",
       "      <th>2</th>\n",
       "      <td>2015-02-01</td>\n",
       "      <td>Quantum interference in time-delayed nonsequen...</td>\n",
       "      <td>Phys. Rev. A</td>\n",
       "      <td>NaN</td>\n",
       "      <td>A. S. Maxwell &amp; C. Figueira de Morisson Faria....</td>\n",
       "      <td>Quantum interference in time-delayed nonsequen...</td>\n",
       "      <td>https://journals.aps.org/pra/abstract/10.1103/...</td>\n",
       "    </tr>\n",
       "    <tr>\n",
       "      <th>3</th>\n",
       "      <td>2016-08-24</td>\n",
       "      <td>Controlling Below-Threshold Nonsequential Doub...</td>\n",
       "      <td>Phys. Rev. Lett.</td>\n",
       "      <td>NaN</td>\n",
       "      <td>A. S. Maxwell &amp; C. Figueira de Morisson Faria....</td>\n",
       "      <td>Controlling Below-Threshold Nonsequential Doub...</td>\n",
       "      <td>https://journals.aps.org/prl/abstract/10.1103/...</td>\n",
       "    </tr>\n",
       "    <tr>\n",
       "      <th>4</th>\n",
       "      <td>2017-08-22</td>\n",
       "      <td>Coulomb-corrected quantum interference in abov...</td>\n",
       "      <td>Phys. Rev. A</td>\n",
       "      <td>NaN</td>\n",
       "      <td>A. S. Maxwell, A. Al-Jawahiry, T. Das &amp; C. Fig...</td>\n",
       "      <td>Coulomb-corrected quantum interference in abov...</td>\n",
       "      <td>https://journals.aps.org/pra/abstract/10.1103/...</td>\n",
       "    </tr>\n",
       "    <tr>\n",
       "      <th>5</th>\n",
       "      <td>2018-01-26</td>\n",
       "      <td>Analytic quantum-interference condi- tions in ...</td>\n",
       "      <td>J. Phys. B: At. Mol. Opt. Phys.</td>\n",
       "      <td>NaN</td>\n",
       "      <td>A. S. Maxwell, A. Al-Jawahiry, X. Y. Lai &amp; C. ...</td>\n",
       "      <td>Analytic quantum-interference condi- tions in ...</td>\n",
       "      <td>https://iopscience.iop.org/article/10.1088/136...</td>\n",
       "    </tr>\n",
       "    <tr>\n",
       "      <th>6</th>\n",
       "      <td>2018-05-23</td>\n",
       "      <td>Analytic quantum-interference condi- tions in ...</td>\n",
       "      <td>J. Phys. B: At. Mol. Opt. Phys.</td>\n",
       "      <td>NaN</td>\n",
       "      <td>A. S. Maxwell &amp; C. Figueria de Morisson Faria....</td>\n",
       "      <td>Analytic quantum-interference condi- tions in ...</td>\n",
       "      <td>https://iopscience.iop.org/article/10.1088/136...</td>\n",
       "    </tr>\n",
       "    <tr>\n",
       "      <th>7</th>\n",
       "      <td>2018-12-20</td>\n",
       "      <td>Treating Branch Cuts in Quantum Trajectory Mod...</td>\n",
       "      <td>Phys. Rev. A</td>\n",
       "      <td>NaN</td>\n",
       "      <td>A. S. Maxwell, C. Figueira de Morisson Faria &amp;...</td>\n",
       "      <td>Treating Branch Cuts in Quantum Trajectory Mod...</td>\n",
       "      <td>https://journals.aps.org/pra/abstract/10.1103/...</td>\n",
       "    </tr>\n",
       "    <tr>\n",
       "      <th>8</th>\n",
       "      <td>2019-10-14</td>\n",
       "      <td>Symphony on Strong Field Approximation</td>\n",
       "      <td>Rep. Prog. Phys.</td>\n",
       "      <td>NaN</td>\n",
       "      <td>K. Amini, [et al. including A. S. Maxwell]. Re...</td>\n",
       "      <td>Symphony on Strong Field Approximation</td>\n",
       "      <td>https://iopscience.iop.org/article/10.1088/136...</td>\n",
       "    </tr>\n",
       "    <tr>\n",
       "      <th>9</th>\n",
       "      <td>2020-01-28</td>\n",
       "      <td>It is all about phases: ultrafast holographic ...</td>\n",
       "      <td>Rep. Prog. Phys.</td>\n",
       "      <td>NaN</td>\n",
       "      <td>C. F. de Morisson Faria and A. S. Maxwell. Rep...</td>\n",
       "      <td>It is all about phases: ultrafast holographic ...</td>\n",
       "      <td>https://iopscience.iop.org/article/10.1088/136...</td>\n",
       "    </tr>\n",
       "    <tr>\n",
       "      <th>10</th>\n",
       "      <td>2019-08-11</td>\n",
       "      <td>Holographic detection of parity in atomic and ...</td>\n",
       "      <td>arXiv</td>\n",
       "      <td>NaN</td>\n",
       "      <td>H. P. Kang, A. S. Maxwell, et al. ArXiv:1908.0...</td>\n",
       "      <td>Holographic detection of parity in atomic and ...</td>\n",
       "      <td>https://arxiv.org/abs/1908.03860</td>\n",
       "    </tr>\n",
       "  </tbody>\n",
       "</table>\n",
       "</div>"
      ],
      "text/plain": [
       "      pub_date                                              title  \\\n",
       "0   2015-08-01  A Systematic Study of Interference Effects in ...   \n",
       "1   2015-08-01  On properties of Karlsson Hadamards and sets o...   \n",
       "2   2015-02-01  Quantum interference in time-delayed nonsequen...   \n",
       "3   2016-08-24  Controlling Below-Threshold Nonsequential Doub...   \n",
       "4   2017-08-22  Coulomb-corrected quantum interference in abov...   \n",
       "5   2018-01-26  Analytic quantum-interference condi- tions in ...   \n",
       "6   2018-05-23  Analytic quantum-interference condi- tions in ...   \n",
       "7   2018-12-20  Treating Branch Cuts in Quantum Trajectory Mod...   \n",
       "8   2019-10-14             Symphony on Strong Field Approximation   \n",
       "9   2020-01-28  It is all about phases: ultrafast holographic ...   \n",
       "10  2019-08-11  Holographic detection of parity in atomic and ...   \n",
       "\n",
       "                                   venue  excerpt  \\\n",
       "0                   J. Phys.: Conf. Ser.      NaN   \n",
       "1   Linear Algebra and Its Applications,      NaN   \n",
       "2                           Phys. Rev. A      NaN   \n",
       "3                       Phys. Rev. Lett.      NaN   \n",
       "4                           Phys. Rev. A      NaN   \n",
       "5        J. Phys. B: At. Mol. Opt. Phys.      NaN   \n",
       "6        J. Phys. B: At. Mol. Opt. Phys.      NaN   \n",
       "7                           Phys. Rev. A      NaN   \n",
       "8                      Rep. Prog. Phys.       NaN   \n",
       "9                      Rep. Prog. Phys.       NaN   \n",
       "10                                 arXiv      NaN   \n",
       "\n",
       "                                             citation  \\\n",
       "0   A. S. Maxwell & C. Figueira de Morisson Faria....   \n",
       "1   A. S. Maxwell & S. Brierley. Linear Algebra an...   \n",
       "2   A. S. Maxwell & C. Figueira de Morisson Faria....   \n",
       "3   A. S. Maxwell & C. Figueira de Morisson Faria....   \n",
       "4   A. S. Maxwell, A. Al-Jawahiry, T. Das & C. Fig...   \n",
       "5   A. S. Maxwell, A. Al-Jawahiry, X. Y. Lai & C. ...   \n",
       "6   A. S. Maxwell & C. Figueria de Morisson Faria....   \n",
       "7   A. S. Maxwell, C. Figueira de Morisson Faria &...   \n",
       "8   K. Amini, [et al. including A. S. Maxwell]. Re...   \n",
       "9   C. F. de Morisson Faria and A. S. Maxwell. Rep...   \n",
       "10  H. P. Kang, A. S. Maxwell, et al. ArXiv:1908.0...   \n",
       "\n",
       "                                             url_slug  \\\n",
       "0   A Systematic Study of Interference Effects in ...   \n",
       "1   On properties of Karlsson Hadamards and sets o...   \n",
       "2   Quantum interference in time-delayed nonsequen...   \n",
       "3   Controlling Below-Threshold Nonsequential Doub...   \n",
       "4   Coulomb-corrected quantum interference in abov...   \n",
       "5   Analytic quantum-interference condi- tions in ...   \n",
       "6   Analytic quantum-interference condi- tions in ...   \n",
       "7   Treating Branch Cuts in Quantum Trajectory Mod...   \n",
       "8              Symphony on Strong Field Approximation   \n",
       "9   It is all about phases: ultrafast holographic ...   \n",
       "10  Holographic detection of parity in atomic and ...   \n",
       "\n",
       "                                            paper_url  \n",
       "0   https://iopscience.iop.org/article/10.1088/174...  \n",
       "1   https://www.sciencedirect.com/science/article/...  \n",
       "2   https://journals.aps.org/pra/abstract/10.1103/...  \n",
       "3   https://journals.aps.org/prl/abstract/10.1103/...  \n",
       "4   https://journals.aps.org/pra/abstract/10.1103/...  \n",
       "5   https://iopscience.iop.org/article/10.1088/136...  \n",
       "6   https://iopscience.iop.org/article/10.1088/136...  \n",
       "7   https://journals.aps.org/pra/abstract/10.1103/...  \n",
       "8   https://iopscience.iop.org/article/10.1088/136...  \n",
       "9   https://iopscience.iop.org/article/10.1088/136...  \n",
       "10                   https://arxiv.org/abs/1908.03860  "
      ]
     },
     "execution_count": 3,
     "metadata": {},
     "output_type": "execute_result"
    }
   ],
   "source": [
    "publications = pd.read_csv(\"publications.tsv\", sep=\"\\t\", header=0)\n",
    "publications\n"
   ]
  },
  {
   "cell_type": "markdown",
   "metadata": {},
   "source": [
    "## Escape special characters\n",
    "\n",
    "YAML is very picky about how it takes a valid string, so we are replacing single and double quotes (and ampersands) with their HTML encoded equivilents. This makes them look not so readable in raw format, but they are parsed and rendered nicely."
   ]
  },
  {
   "cell_type": "code",
   "execution_count": 4,
   "metadata": {
    "deletable": true,
    "editable": true
   },
   "outputs": [],
   "source": [
    "html_escape_table = {\n",
    "    \"&\": \"&amp;\",\n",
    "    '\"': \"&quot;\",\n",
    "    \"'\": \"&apos;\"\n",
    "}\n",
    "\n",
    "def html_escape(text):\n",
    "    \"\"\"Produce entities within text.\"\"\"\n",
    "    return \"\".join(html_escape_table.get(c,c) for c in text)"
   ]
  },
  {
   "cell_type": "markdown",
   "metadata": {},
   "source": [
    "## Creating the markdown files\n",
    "\n",
    "This is where the heavy lifting is done. This loops through all the rows in the TSV dataframe, then starts to concatentate a big string (```md```) that contains the markdown for each type. It does the YAML metadata first, then does the description for the individual page."
   ]
  },
  {
   "cell_type": "code",
   "execution_count": 5,
   "metadata": {
    "collapsed": false,
    "deletable": true,
    "editable": true,
    "jupyter": {
     "outputs_hidden": false
    }
   },
   "outputs": [],
   "source": [
    "import os\n",
    "for row, item in publications.iterrows():\n",
    "    \n",
    "    md_filename = str(item.pub_date) + \"-\" + item.url_slug + \".md\"\n",
    "    html_filename = str(item.pub_date) + \"-\" + item.url_slug\n",
    "    year = item.pub_date[:4]\n",
    "    \n",
    "    ## YAML variables\n",
    "    \n",
    "    md = \"---\\ntitle: \\\"\"   + item.title + '\"\\n'\n",
    "    \n",
    "    md += \"\"\"collection: publications\"\"\"\n",
    "    \n",
    "    md += \"\"\"\\npermalink: /publication/\"\"\" + html_filename\n",
    "    \n",
    "    if len(str(item.excerpt)) > 5:\n",
    "        md += \"\\nexcerpt: '\" + html_escape(item.excerpt) + \"'\"\n",
    "    \n",
    "    md += \"\\ndate: \" + str(item.pub_date) \n",
    "    \n",
    "    md += \"\\nvenue: '\" + html_escape(item.venue) + \"'\"\n",
    "    \n",
    "    if len(str(item.paper_url)) > 5:\n",
    "        md += \"\\npaperurl: '\" + item.paper_url + \"'\"\n",
    "    \n",
    "    md += \"\\ncitation: '\" + html_escape(item.citation) + \"'\"\n",
    "    \n",
    "    md += \"\\n---\"\n",
    "    \n",
    "    ## Markdown description for individual page\n",
    "        \n",
    "    if len(str(item.excerpt)) > 5:\n",
    "        md += \"\\n\" + html_escape(item.excerpt) + \"\\n\"\n",
    "    \n",
    "    if len(str(item.paper_url)) > 5:\n",
    "        md += \"\\n[Download paper here](\" + item.paper_url + \")\\n\" \n",
    "        \n",
    "    md += \"\\nRecommended citation: \" + item.citation\n",
    "    \n",
    "    md_filename = os.path.basename(md_filename)\n",
    "       \n",
    "    with open(\"../_publications/\" + md_filename, 'w') as f:\n",
    "        f.write(md)"
   ]
  },
  {
   "cell_type": "markdown",
   "metadata": {},
   "source": [
    "These files are in the publications directory, one directory below where we're working from."
   ]
  },
  {
   "cell_type": "code",
   "execution_count": 6,
   "metadata": {
    "collapsed": false,
    "deletable": true,
    "editable": true,
    "jupyter": {
     "outputs_hidden": false
    }
   },
   "outputs": [
    {
     "name": "stdout",
     "output_type": "stream",
     "text": [
      "'2015-02-01-Quantum interference in time-delayed nonsequential double ionization.md'\n",
      "'2015-08-01-A Systematic Study of Interference Effects in Non-Sequential'$'\\n''Double Ionisation.md'\n",
      "'2015-08-01-On properties of Karlsson Hadamards and sets of mutually unbiased bases in dimension six.md'\n",
      "'2016-08-24-Controlling Below-Threshold Nonsequential Double Ionization via Quantum Interference.md'\n",
      "'2017-08-22-Coulomb-corrected quantum interference in above-threshold ionization: Working towards multi-trajectory electron holography.md'\n",
      "'2018-01-26-Analytic quantum-interference condi- tions in Coulomb corrected photoelectron holography.md'\n",
      "'2018-05-23-Analytic quantum-interference condi- tions in Coulomb corrected photoelectron holography.md'\n",
      "'2018-12-20-Treating Branch Cuts in Quantum Trajectory Models for Photoelectron Holography.md'\n",
      "'2019-08-11-Holographic detection of parity in atomic and molecular orbitals.md'\n",
      "'2019-10-14-Symphony on Strong Field Approximation.md'\n",
      "'2020-01-28-It is all about phases: ultrafast holographic photoelectron imaging.md'\n"
     ]
    }
   ],
   "source": [
    "!ls ../_publications/"
   ]
  },
  {
   "cell_type": "code",
   "execution_count": 7,
   "metadata": {
    "collapsed": false,
    "deletable": true,
    "editable": true,
    "jupyter": {
     "outputs_hidden": false
    }
   },
   "outputs": [
    {
     "name": "stdout",
     "output_type": "stream",
     "text": [
      "cat: ../_publications/2009-10-01-paper-title-number-1.md: No such file or directory\n"
     ]
    }
   ],
   "source": [
    "!cat ../_publications/2009-10-01-paper-title-number-1.md"
   ]
  },
  {
   "cell_type": "code",
   "execution_count": null,
   "metadata": {
    "collapsed": true,
    "deletable": true,
    "editable": true,
    "jupyter": {
     "outputs_hidden": true
    }
   },
   "outputs": [],
   "source": []
  }
 ],
 "metadata": {
  "kernelspec": {
   "display_name": "Python 3",
   "language": "python",
   "name": "python3"
  },
  "language_info": {
   "codemirror_mode": {
    "name": "ipython",
    "version": 3
   },
   "file_extension": ".py",
   "mimetype": "text/x-python",
   "name": "python",
   "nbconvert_exporter": "python",
   "pygments_lexer": "ipython3",
   "version": "3.7.6"
  }
 },
 "nbformat": 4,
 "nbformat_minor": 4
}

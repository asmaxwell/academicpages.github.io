{
 "cells": [
  {
   "cell_type": "markdown",
   "metadata": {
    "deletable": true,
    "editable": true
   },
   "source": [
    "# Publications markdown generator for academicpages\n",
    "\n",
    "Takes a TSV of publications with metadata and converts them for use with [academicpages.github.io](academicpages.github.io). This is an interactive Jupyter notebook ([see more info here](http://jupyter-notebook-beginner-guide.readthedocs.io/en/latest/what_is_jupyter.html)). The core python code is also in `publications.py`. Run either from the `markdown_generator` folder after replacing `publications.tsv` with one containing your data.\n",
    "\n",
    "TODO: Make this work with BibTex and other databases of citations, rather than Stuart's non-standard TSV format and citation style.\n"
   ]
  },
  {
   "cell_type": "markdown",
   "metadata": {},
   "source": [
    "## Data format\n",
    "\n",
    "The TSV needs to have the following columns: pub_date, title, venue, excerpt, citation, site_url, and paper_url, with a header at the top. \n",
    "\n",
    "- `excerpt` and `paper_url` can be blank, but the others must have values. \n",
    "- `pub_date` must be formatted as YYYY-MM-DD.\n",
    "- `url_slug` will be the descriptive part of the .md file and the permalink URL for the page about the paper. The .md file will be `YYYY-MM-DD-[url_slug].md` and the permalink will be `https://[yourdomain]/publications/YYYY-MM-DD-[url_slug]`\n",
    "\n",
    "This is how the raw file looks (it doesn't look pretty, use a spreadsheet or other program to edit and create)."
   ]
  },
  {
   "cell_type": "code",
   "execution_count": 1,
   "metadata": {
    "collapsed": false,
    "jupyter": {
     "outputs_hidden": false
    }
   },
   "outputs": [
    {
     "name": "stdout",
     "output_type": "stream",
     "text": [
      "pub_date,title,venue,vol,pages,year,author1,author2,mypos,citation,url_slug,paper_url,excerpt\n",
      "2015-02-01,Quantum interference in time-delayed nonsequential double ionization,Phys. Rev. A,92,023421,2015,0,C. Figueira de Morisson Faria,1,\"A. S. Maxwell and C. Figueira de Morisson Faria. Phys. Rev. A, 92, 23421 (2015).\",Quantum interference in time-delayed nonsequential double ionization,https://journals.aps.org/pra/abstract/10.1103/PhysRevA.92.023421,\n",
      "2015-08-01,A Systematic Study of Interference Effects in Non-Sequential Double Ionisation,J. Phys. Conf. Ser.,635,92136,2015,0,C. Figueira de Morisson Faria,1,\"A. S. Maxwell and C. Figueira de Morisson Faria. J. Phys.: Conf. Ser., 635, 092136 (2015).\",A Systematic Study of Interference Effects in Non-Sequential Double Ionisation,https://iopscience.iop.org/article/10.1088/1742-6596/635/9/092136/meta,\n",
      "2015-08-01,On properties of Karlsson Hadamards and sets of mutually unbiased bases in dimension six,\"Linear Algebra and Its Applications,\",466,0296306,2015,0,S. Brierley.,1,\"A. S. Maxwell and S. Brierley. Linear Algebra and Its Applications, 466, 296306 (2015)\",On properties of Karlsson Hadamards and sets of mutually unbiased bases in dimension six,https://www.sciencedirect.com/science/article/pii/S0024379514006867,\n",
      "2016-08-24,Controlling Below-Threshold Nonsequential Double Ionization via Quantum Interference,Phys. Rev. Lett.,116,143001,2016,0,C. Figueira de Morisson Faria,1,\"A. S. Maxwell and C. Figueira de Morisson Faria. Phys. Rev. Lett., 116, 143001 (2016)\",Controlling Below-Threshold Nonsequential Double Ionization via Quantum Interference,https://journals.aps.org/prl/abstract/10.1103/PhysRevLett.116.143001,\n",
      "2017-08-22,Coulomb-corrected quantum interference in above-threshold ionization: Working towards multi-trajectory electron holography,Phys. Rev. A,96,23420,2017,0,A. Al-Jawahiry,1,\"A. S. Maxwell, A. Al-Jawahiry, T. Das and C. Figueria de Morisson Faria. Phys. Rev. A 96, 023420 (2017)\",Coulomb-corrected quantum interference in above-threshold ionization: Working towards multi-trajectory electron holography,https://journals.aps.org/pra/abstract/10.1103/PhysRevA.96.023420,\n",
      "2018-01-26,Analytic quantum-interference conditions in Coulomb corrected photoelectron holography,J. Phys. B: At. Mol. Opt. Phys.,51,044004,2018,0,A. Al-Jawahiry,1,\"A. S. Maxwell, A. Al-Jawahiry, X. Y. Lai and C. Figueria de Morisson Faria. J. Phys. B: At. Mol. Opt. Phys. 51, 044004 (2018)\",Analytic quantum-interference conditions in Coulomb corrected photoelectron holography,https://iopscience.iop.org/article/10.1088/1361-6455/aa9e81,\n",
      "2018-05-23,Coulomb-free and Coulomb-distorted recolliding quantum orbits in photoelectron holography,J. Phys. B: At. Mol. Opt. Phys.,51,124001,2018,0,C. Figueira de Morisson Faria,1,A. S. Maxwell and C. Figueria de Morisson Faria.  J. Phys. B: At. Mol. Opt. Phys. 51 124001 (2018),Coulomb-free and Coulomb-distorted recolliding quantum orbits in photoelectron holography,https://iopscience.iop.org/article/10.1088/1361-6455/aac164/pdf,\n",
      "2018-12-20,Treating Branch Cuts in Quantum Trajectory Models for Photoelectron Holography,Phys. Rev. A,98,063423,2018,0,C. Figueira de Morisson Faria,1,\"A. S. Maxwell, C. Figueira de Morisson Faria and S. V. Popruzhenko. Phys. Rev. A 98, 063423 (2018)\",Treating Branch Cuts in Quantum Trajectory Models for Photoelectron Holography,https://journals.aps.org/pra/abstract/10.1103/PhysRevA.98.063423,\n",
      "2019-10-14,Symphony on Strong Field Approximation,Rep. Prog. Phys. ,82,116001,2019,K. Amini,0,0,\"K. Amini, [et al. including A. S. Maxwell]. Rep. Prog. Phys. 82 116001 (2019)\",Symphony on Strong Field Approximation,https://iopscience.iop.org/article/10.1088/1361-6633/ab2bb1/meta,\n",
      "2020-01-01,Polarisation Effects in Above-Threshold Ionisation of Excited Helium,J. Phys. Conf. Ser.,1412,72021,2020,A. C. Bray,0,2,A. C. Bray et al. 2020 J. Phys.: Conf. Ser. 1412 072021,Polarisation Effects in Above-Threshold Ionisation of Excited Helium,https://iopscience.iop.org/article/10.1088/1742-6596/1412/7/072021/meta,\n",
      "2020-01-01,Spiral-like Structure: Unwinding Holographic Interference,J. Phys. Conf. Ser.,1412,72011,2020,0,X. Y. Lai,1,\"A. S. Maxwell et al. J. Phys.: Conf. Ser. 1412, 072011\",Spiral-like Structure: Unwinding Holographic Interference,https://iopscience.iop.org/article/10.1088/1742-6596/1412/7/072011/meta,\n",
      "2020-01-28,It is all about phases: ultrafast holographic photoelectron imaging,Rep. Prog. Phys. ,83,034401,2020,C. Figueira de Morisson Faria,0,2,\"C. Figueira de Morisson Faria and A. S. Maxwell. Rep. Prog. in Phys. 83, 034401 (2020)\",It is all about phases: ultrafast holographic photoelectron imaging,https://iopscience.iop.org/article/10.1088/1361-6633/ab5c91/meta,\n",
      "2020-07-20,Holographic detection of parity in atomic and molecular orbitals,Phys. Rev. A,102,013109,2020,H. P. Kang,0,2,\"H. P. Kang, A. S. Maxwell et al. Holographic detection of parity in atomic and molecular orbitals Phys. Rev. A 102, 13109 (2020)\",Holographic detection of parity in atomic and molecular orbitals,https://journals.aps.org/pra/abstract/10.1103/PhysRevA.102.013109,\n",
      "2020-09-21,Spiral-like Holographic Structures: Unwinding Interference Carpets of Coulomb-Distorted Orbits in Strong-Field Ionization,Phys. Rev. A,102,033111,2020,0,X. Y. Lai,1,\"A. S. Maxwell, X. Y. Lai, R. P. Sun, X. J. Liu, C. Figueira de Morisson Faria Phys. Rev. A 102, 033111 (2020)\",Spiral-like Holographic Structures: Unwinding Interference Carpets of Coulomb-Distorted Orbits in Strong-Field Ionization,https://journals.aps.org/pra/abstract/10.1103/PhysRevA.102.033111,\n",
      "2020-10-21,Circular dichroism in higher-order harmonic generation: Heralding topological phases and transitions in Chern insulators,Phys. Rev. B,102,134115,2020,A. Chacón,D. Kim,0,\"Alexis Chacón, Dasol Kim, Wei Zhu, Shane P. Kelly, Alexandre Dauphin, Emilio Pisanty, Andrew S. Maxwell, Antonio Picón, Marcelo F. Ciappina, Dong Eon Kim, Christopher Ticknor, Avadh Saxena, and Maciej Lewenstein Phys. Rev. B 102, 134115 (2020)\",Circular dichroism in higher-order harmonic generation: Heralding topological phases and transitions in Chern insulators,https://journals.aps.org/prb/abstract/10.1103/PhysRevB.102.134115,\n",
      "2021-04-28,Quantum Estimation in Strong Fields: in situ ponderomotive sensing,Phys. Rev. A,103,43519,2021,0,A. Serafini,1,\"A.S. Maxwell, A. Serafini, S. Bose, C. Figueira de Morisson Faria, Phys. Rev. A 103, 043519 (2021)\",Quantum Estimation in Strong Fields: in situ ponderomotive sensing,https://journals.aps.org/pra/abstract/10.1103/PhysRevA.103.043519,\n",
      "2021-05-27,Manipulating Twisted Electrons in Strong-Field Ionization,Faraday Discussions,228,394,2021,0,G. S. J. Armstrong,1,\"A. S. Maxwell, G. S. J. Armstrong, M. F. Ciappina, E. Pisanty, Y. Kang, A. C. Brown, M. Lewenstein & C. Figueira de Morisson Faria, Faraday Discussions 228,  394-412 (2020)\",Manipulating Twisted Electrons in Strong-Field Ionization,https://pubs.rsc.org/en/Content/ArticleLanding/2020/FD/D0FD00105H#!divAbstract,\n",
      "2021-05-28,Principal frequency of an ultrashort laser pulse,Phys. Rev. A ,103,053124,2021,E.  G. Neyra,0,0,\"Enrique G. Neyra, Pablo Vaveliuk, Emilio Pisanty, Andrew S. Maxwell, Maciej Lewenstein and Marcelo F. Ciappina, Phys. Rev. A 103, 053124 (2021)\",Principal frequency of an ultrashort laser pulse,https://journals.aps.org/pra/abstract/10.1103/PhysRevA.103.053124,\n",
      "2021-07-09,Conservation laws for Electron Vortices in Strong-Field Ionisation,Eur. Phys. J. D,75,199,2021,Y. Kang,Emilio Pisanty,-1,\"Yuxin Kang, Emilio Pisanty, Marcelo Ciappina, Maciej Lewenstein, Carla Figueira de Morisson Faria and Andrew S Maxwell, Eur. Phys. J. D 75: 199 (2021)\",Conservation laws for Electron Vortices in Strong-Field Ionisation,https://epjd.epj.org/articles/epjd/abs/2021/07/10053_2021_Article_214/10053_2021_Article_214.html,\n",
      "2021-07-19,Dissecting Sub-Cycle Interference in Photoelectron Holography,Phys. Rev. A,104,013109,2021,N. Werby,0,1,\"Nicholas Werby, Andrew S. Maxwell, Ruaridh Forbes, Philip H. Bucksbaum andCarla Figueira de Morisson Faria, Phys. Rev. A 104, 013109 (2021)\",Dissecting Sub-Cycle Interference in Photoelectron Holography,https://journals.aps.org/pra/abstract/10.1103/PhysRevA.104.013109,\n",
      "2021-07-20,Dialogue on analytical and ab initio methods in attoscience,Eur. Phys. J. D,75,209,2021,G. S. J. Armstrong,M. A. Khokhlova,0,\"Gregory S. J. Armstrong, Margarita A. Khokhlova, Marie Labeye, Andrew S. Maxwell, Emilio Pisanty and Marco Ruberti, Eur. Phys. J. D 75: 209 (2021)\",Dialogue on analytical and ab initio methods in attoscience,https://epjd.epj.org/articles/epjd/abs/2021/07/10053_2021_Article_207/10053_2021_Article_207.html,\n",
      "2021-11-15,Polarization in Strong-Field Ionization of Excited Helium,J. Phys. B: At. Mol. Opt. Phys.,54,0194002,2021,A. C. Bray,0,2,\"A. C. Bray, A. S. Maxwell, Y. Kissin, M. Ruberti, M. F. Ciappina, V. Averbukh and C. Figueira De Morisson Faria, J. Phys. B: At. Mol. Opt. Phys. 54 194002 (2021)\",Polarization in Strong-Field Ionization of Excited Helium,https://iopscience.iop.org/article/10.1088/1361-6455/ac2e4a,\n",
      "2021-11-19,Entanglement of Orbital Angular Momentum in Non-Sequential Double Ionization,arXiv:2111.10148 ,0,0,2021,0,Lars Bojer Madsen,1,\"A. S. Maxwell, L. B. Madsen and M. Lewenstein, arXiv:2111.10148 (2021).\",Entanglement of Orbital Angular Momentum in Non-Sequential Double Ionization,https://arxiv.org/abs/2111.10148,\n"
     ]
    }
   ],
   "source": [
    "!cat publications.csv"
   ]
  },
  {
   "cell_type": "markdown",
   "metadata": {},
   "source": [
    "## Import pandas\n",
    "\n",
    "We are using the very handy pandas library for dataframes."
   ]
  },
  {
   "cell_type": "code",
   "execution_count": 2,
   "metadata": {
    "deletable": true,
    "editable": true
   },
   "outputs": [],
   "source": [
    "import pandas as pd"
   ]
  },
  {
   "cell_type": "markdown",
   "metadata": {},
   "source": [
    "## Import TSV\n",
    "\n",
    "Pandas makes this easy with the read_csv function. We are using a TSV, so we specify the separator as a tab, or `\\t`.\n",
    "\n",
    "I found it important to put this data in a tab-separated values format, because there are a lot of commas in this kind of data and comma-separated values can get messed up. However, you can modify the import statement, as pandas also has read_excel(), read_json(), and others."
   ]
  },
  {
   "cell_type": "code",
   "execution_count": 3,
   "metadata": {
    "collapsed": false,
    "deletable": true,
    "editable": true,
    "jupyter": {
     "outputs_hidden": false
    }
   },
   "outputs": [
    {
     "data": {
      "text/html": [
       "<div>\n",
       "<style scoped>\n",
       "    .dataframe tbody tr th:only-of-type {\n",
       "        vertical-align: middle;\n",
       "    }\n",
       "\n",
       "    .dataframe tbody tr th {\n",
       "        vertical-align: top;\n",
       "    }\n",
       "\n",
       "    .dataframe thead th {\n",
       "        text-align: right;\n",
       "    }\n",
       "</style>\n",
       "<table border=\"1\" class=\"dataframe\">\n",
       "  <thead>\n",
       "    <tr style=\"text-align: right;\">\n",
       "      <th></th>\n",
       "      <th>pub_date,title,venue,vol,pages,year,author1,author2,mypos,citation,url_slug,paper_url,excerpt</th>\n",
       "    </tr>\n",
       "  </thead>\n",
       "  <tbody>\n",
       "    <tr>\n",
       "      <th>0</th>\n",
       "      <td>2015-02-01,Quantum interference in time-delaye...</td>\n",
       "    </tr>\n",
       "    <tr>\n",
       "      <th>1</th>\n",
       "      <td>2015-08-01,A Systematic Study of Interference ...</td>\n",
       "    </tr>\n",
       "    <tr>\n",
       "      <th>2</th>\n",
       "      <td>2015-08-01,On properties of Karlsson Hadamards...</td>\n",
       "    </tr>\n",
       "    <tr>\n",
       "      <th>3</th>\n",
       "      <td>2016-08-24,Controlling Below-Threshold Nonsequ...</td>\n",
       "    </tr>\n",
       "    <tr>\n",
       "      <th>4</th>\n",
       "      <td>2017-08-22,Coulomb-corrected quantum interfere...</td>\n",
       "    </tr>\n",
       "    <tr>\n",
       "      <th>5</th>\n",
       "      <td>2018-01-26,Analytic quantum-interference condi...</td>\n",
       "    </tr>\n",
       "    <tr>\n",
       "      <th>6</th>\n",
       "      <td>2018-05-23,Coulomb-free and Coulomb-distorted ...</td>\n",
       "    </tr>\n",
       "    <tr>\n",
       "      <th>7</th>\n",
       "      <td>2018-12-20,Treating Branch Cuts in Quantum Tra...</td>\n",
       "    </tr>\n",
       "    <tr>\n",
       "      <th>8</th>\n",
       "      <td>2019-10-14,Symphony on Strong Field Approximat...</td>\n",
       "    </tr>\n",
       "    <tr>\n",
       "      <th>9</th>\n",
       "      <td>2020-01-01,Polarisation Effects in Above-Thres...</td>\n",
       "    </tr>\n",
       "    <tr>\n",
       "      <th>10</th>\n",
       "      <td>2020-01-01,Spiral-like Structure: Unwinding Ho...</td>\n",
       "    </tr>\n",
       "    <tr>\n",
       "      <th>11</th>\n",
       "      <td>2020-01-28,It is all about phases: ultrafast h...</td>\n",
       "    </tr>\n",
       "    <tr>\n",
       "      <th>12</th>\n",
       "      <td>2020-07-20,Holographic detection of parity in ...</td>\n",
       "    </tr>\n",
       "    <tr>\n",
       "      <th>13</th>\n",
       "      <td>2020-09-21,Spiral-like Holographic Structures:...</td>\n",
       "    </tr>\n",
       "    <tr>\n",
       "      <th>14</th>\n",
       "      <td>2020-10-21,Circular dichroism in higher-order ...</td>\n",
       "    </tr>\n",
       "    <tr>\n",
       "      <th>15</th>\n",
       "      <td>2021-04-28,Quantum Estimation in Strong Fields...</td>\n",
       "    </tr>\n",
       "    <tr>\n",
       "      <th>16</th>\n",
       "      <td>2021-05-27,Manipulating Twisted Electrons in S...</td>\n",
       "    </tr>\n",
       "    <tr>\n",
       "      <th>17</th>\n",
       "      <td>2021-05-28,Principal frequency of an ultrashor...</td>\n",
       "    </tr>\n",
       "    <tr>\n",
       "      <th>18</th>\n",
       "      <td>2021-07-09,Conservation laws for Electron Vort...</td>\n",
       "    </tr>\n",
       "    <tr>\n",
       "      <th>19</th>\n",
       "      <td>2021-07-19,Dissecting Sub-Cycle Interference i...</td>\n",
       "    </tr>\n",
       "    <tr>\n",
       "      <th>20</th>\n",
       "      <td>2021-07-20,Dialogue on analytical and ab initi...</td>\n",
       "    </tr>\n",
       "    <tr>\n",
       "      <th>21</th>\n",
       "      <td>2021-11-15,Polarization in Strong-Field Ioniza...</td>\n",
       "    </tr>\n",
       "    <tr>\n",
       "      <th>22</th>\n",
       "      <td>2021-11-19,Entanglement of Orbital Angular Mom...</td>\n",
       "    </tr>\n",
       "  </tbody>\n",
       "</table>\n",
       "</div>"
      ],
      "text/plain": [
       "   pub_date,title,venue,vol,pages,year,author1,author2,mypos,citation,url_slug,paper_url,excerpt\n",
       "0   2015-02-01,Quantum interference in time-delaye...                                           \n",
       "1   2015-08-01,A Systematic Study of Interference ...                                           \n",
       "2   2015-08-01,On properties of Karlsson Hadamards...                                           \n",
       "3   2016-08-24,Controlling Below-Threshold Nonsequ...                                           \n",
       "4   2017-08-22,Coulomb-corrected quantum interfere...                                           \n",
       "5   2018-01-26,Analytic quantum-interference condi...                                           \n",
       "6   2018-05-23,Coulomb-free and Coulomb-distorted ...                                           \n",
       "7   2018-12-20,Treating Branch Cuts in Quantum Tra...                                           \n",
       "8   2019-10-14,Symphony on Strong Field Approximat...                                           \n",
       "9   2020-01-01,Polarisation Effects in Above-Thres...                                           \n",
       "10  2020-01-01,Spiral-like Structure: Unwinding Ho...                                           \n",
       "11  2020-01-28,It is all about phases: ultrafast h...                                           \n",
       "12  2020-07-20,Holographic detection of parity in ...                                           \n",
       "13  2020-09-21,Spiral-like Holographic Structures:...                                           \n",
       "14  2020-10-21,Circular dichroism in higher-order ...                                           \n",
       "15  2021-04-28,Quantum Estimation in Strong Fields...                                           \n",
       "16  2021-05-27,Manipulating Twisted Electrons in S...                                           \n",
       "17  2021-05-28,Principal frequency of an ultrashor...                                           \n",
       "18  2021-07-09,Conservation laws for Electron Vort...                                           \n",
       "19  2021-07-19,Dissecting Sub-Cycle Interference i...                                           \n",
       "20  2021-07-20,Dialogue on analytical and ab initi...                                           \n",
       "21  2021-11-15,Polarization in Strong-Field Ioniza...                                           \n",
       "22  2021-11-19,Entanglement of Orbital Angular Mom...                                           "
      ]
     },
     "execution_count": 3,
     "metadata": {},
     "output_type": "execute_result"
    }
   ],
   "source": [
    "publications = pd.read_csv(\"publications.csv\", sep=\"\\t\", header=0)\n",
    "publications\n"
   ]
  },
  {
   "cell_type": "markdown",
   "metadata": {},
   "source": [
    "## Escape special characters\n",
    "\n",
    "YAML is very picky about how it takes a valid string, so we are replacing single and double quotes (and ampersands) with their HTML encoded equivilents. This makes them look not so readable in raw format, but they are parsed and rendered nicely."
   ]
  },
  {
   "cell_type": "code",
   "execution_count": 4,
   "metadata": {
    "deletable": true,
    "editable": true
   },
   "outputs": [],
   "source": [
    "html_escape_table = {\n",
    "    \"&\": \"&amp;\"\n",
    "    ,'\"': \"&quot;\"\n",
    "    ,\"'\": \"&apos;\"\n",
    "    #,\":\": \"&colon;\"\n",
    "}\n",
    "\n",
    "def html_escape(text):\n",
    "    \"\"\"Produce entities within text.\"\"\"\n",
    "    return \"\".join(html_escape_table.get(c,c) for c in text)"
   ]
  },
  {
   "cell_type": "code",
   "execution_count": 5,
   "metadata": {},
   "outputs": [
    {
     "data": {
      "text/plain": [
       "':'"
      ]
     },
     "execution_count": 5,
     "metadata": {},
     "output_type": "execute_result"
    }
   ],
   "source": [
    "html_escape(\":\")"
   ]
  },
  {
   "cell_type": "markdown",
   "metadata": {},
   "source": [
    "publications## Creating the markdown files\n",
    "\n",
    "This is where the heavy lifting is done. This loops through all the rows in the TSV dataframe, then starts to concatentate a big string (```md```) that contains the markdown for each type. It does the YAML metadata first, then does the description for the individual page."
   ]
  },
  {
   "cell_type": "code",
   "execution_count": 6,
   "metadata": {
    "collapsed": false,
    "deletable": true,
    "editable": true,
    "jupyter": {
     "outputs_hidden": false
    }
   },
   "outputs": [],
   "source": [
    "import os\n",
    "#Add option to perge folder here, to prevent duplicates\n",
    "#solution is only valid for unix\n",
    "os.system(\"rm ../_publications/*\")\n",
    "\n",
    "for row, item in publications.iterrows():\n",
    "    \n",
    "    md_filename = str(item.pub_date) + \"-\" + item.url_slug + \".md\"\n",
    "    html_filename = str(item.pub_date) + \"-\" + item.url_slug\n",
    "    year = item.pub_date[:4]\n",
    "    \n",
    "    ## YAML variables\n",
    "    \n",
    "    md = \"---\\ntitle: \\\"\"   + item.title + '\"\\n'\n",
    "    \n",
    "    md += \"\"\"collection: publications\"\"\"\n",
    "    \n",
    "    md += \"\"\"\\npermalink: \\\" /publication/\"\"\" + html_filename + \"\\\"\"\n",
    "    \n",
    "    if len(str(item.excerpt)) > 5:\n",
    "        md += \"\\nexcerpt: '\" + html_escape(item.excerpt) + \"'\"\n",
    "    \n",
    "    md += \"\\ndate: \" + str(item.pub_date) \n",
    "    \n",
    "    md += \"\\nvenue: '\" + html_escape(item.venue) + \"'\"\n",
    "    \n",
    "    if len(str(item.paper_url)) > 5:\n",
    "        md += \"\\npaperurl: '\" + item.paper_url + \"'\"\n",
    "    \n",
    "    md += \"\\ncitation: '\" + html_escape(item.citation) + \"'\"\n",
    "    \n",
    "    md += \"\\n---\"\n",
    "    \n",
    "    ## Markdown description for individual page\n",
    "        \n",
    "    if len(str(item.excerpt)) > 5:\n",
    "        md += \"\\n\" + html_escape(item.excerpt) + \"\\n\"\n",
    "    \n",
    "    #if len(str(item.paper_url)) > 5:\n",
    "    #    md += \"\\n[Download paper here](\" + item.paper_url + \")\\n\" \n",
    "        \n",
    "    #md += \"\\n\" + item.citation\n",
    "    \n",
    "    md_filename = os.path.basename(md_filename)\n",
    "       \n",
    "    with open(\"../_publications/\" + md_filename, 'w') as f:\n",
    "        f.write(md)"
   ]
  },
  {
   "cell_type": "markdown",
   "metadata": {},
   "source": [
    "These files are in the publications directory, one directory below where we're working from."
   ]
  },
  {
   "cell_type": "code",
   "execution_count": 7,
   "metadata": {
    "collapsed": false,
    "deletable": true,
    "editable": true,
    "jupyter": {
     "outputs_hidden": false
    }
   },
   "outputs": [
    {
     "name": "stdout",
     "output_type": "stream",
     "text": [
      "'2015-02-01-Quantum interference in time-delayed nonsequential double ionization.md'\n",
      "'2015-08-01-A Systematic Study of Interference Effects in Non-Sequential Double Ionisation.md'\n",
      "'2015-08-01-On properties of Karlsson Hadamards and sets of mutually unbiased bases in dimension six.md'\n",
      "'2016-08-24-Controlling Below-Threshold Nonsequential Double Ionization via Quantum Interference.md'\n",
      "'2017-08-22-Coulomb-corrected quantum interference in above-threshold ionization: Working towards multi-trajectory electron holography.md'\n",
      "'2018-01-26-Analytic quantum-interference conditions in Coulomb corrected photoelectron holography.md'\n",
      "'2018-05-23-Coulomb-free and Coulomb-distorted recolliding quantum orbits in photoelectron holography.md'\n",
      "'2018-12-20-Treating Branch Cuts in Quantum Trajectory Models for Photoelectron Holography.md'\n",
      "'2019-10-14-Symphony on Strong Field Approximation.md'\n",
      "'2020-01-01-H. P. Kang, A. S. Maxwell et al. Holographic detection of parity in atomic and molecular orbitals Phys. Rev. A 102, 13109 (2020).md'\n",
      "'2020-01-01-Polarisation Effects in Above-Threshold Ionisation of Excited Helium.md'\n",
      "'2020-01-28-It is all about phases: ultrafast holographic photoelectron imaging.md'\n",
      "'2020-07-20-Holographic detection of parity in atomic and molecular orbitals.md'\n",
      "'2020-09-21-Spiral-like holographic structures: Unwinding interference carpets of Coulomb-distorted orbits in strong-field ionization.md'\n",
      "'2020-10-21-Circular dichroism in higher-order harmonic generation: Heralding topological phases and transitions in Chern insulators.md'\n",
      "'2021-04-28-Quantum Estimation in Strong Fields: in situ ponderomotive sensing.md'\n",
      "'2021-05-27-Manipulating Twisted Electrons in Strong-Field Ionization.md'\n",
      "'2021-05-28-Principal frequency of an ultrashort laser pulse.md'\n",
      "'2021-07-09-Conservation laws for Electron Vortices in Strong-Field Ionisation.md'\n",
      "'2021-07-19-Dissecting Sub-Cycle Interference in Photoelectron Holography.md'\n",
      "'2021-07-20-Dialogue on analytical and ab initio methods in attoscience.md'\n",
      "'2021-11-15-Polarization in Strong-Field Ionization of Excited Helium.md'\n"
     ]
    }
   ],
   "source": [
    "!ls ../_publications/"
   ]
  },
  {
   "cell_type": "markdown",
   "metadata": {
    "deletable": true,
    "editable": true
   },
   "source": [
    "## Create tex list of publications for latex CVpublications.iterrows()"
   ]
  },
  {
   "cell_type": "code",
   "execution_count": 8,
   "metadata": {},
   "outputs": [],
   "source": [
    "tex_filename = \"PublicationListGen.tex\"\n",
    "\n",
    "me= r'\\underline{A. S. Maxwell}'\n",
    "\n",
    "\n",
    "with open(\"../../../CV/gitCV/\" + tex_filename, 'w') as f:\n",
    "    tex = r'\\begin{etaremune}%'\n",
    "    tex+='\\n'\n",
    "    tex+= r'\\itemsep0em'\n",
    "    tex+='\\n\\n'\n",
    "    f.write(tex)\n",
    "    \n",
    "    for row, item in (publications[::-1]).iterrows():\n",
    "        tex = r'\\item '\n",
    "        #Put first author special command for if it is me\n",
    "        if(item.mypos==1):\n",
    "            if(item.author1=='0'):\n",
    "                tex+=me + ', '\n",
    "            else:\n",
    "                tex+=item.author1 + ', '+ me+ ' [joint first author] et al.'\n",
    "        else:\n",
    "            tex+=item.author1 + ', '\n",
    "        #Put second author special command for if it is me\n",
    "        if(item.mypos==2):\n",
    "            tex+=me + ' et al.'\n",
    "        else:\n",
    "            if(item.author2!='0'):\n",
    "                tex+=item.author2\n",
    "                if(item.mypos==1):\n",
    "                    tex+=' et al.'\n",
    "        #if I am middle author\n",
    "        if(item.mypos==0):\n",
    "             tex+=r' [et al.\\ including '+me+' ]'\n",
    "        #last author case\n",
    "        if(item.mypos==-1):\n",
    "             tex+=' et al. and '+me+' '\n",
    "        \n",
    "        tex+='\\n'            \n",
    "        #Put the title in italics\n",
    "        tex+= r' \\emph{' + item.title + '}'\n",
    "        tex+='\\n'\n",
    "        #put journal head\n",
    "        tex+= item.venue + ' '\n",
    "        tex+= r'\\href{' + item.paper_url+'}'\n",
    "        tex+='\\n'\n",
    "        tex+= r'{\\textbf{'\n",
    "        tex+= str(item.vol) + r'}'\n",
    "        if(item.year!=0):\n",
    "            tex+=', '\n",
    "        if(item.pages!=0):\n",
    "            tex+= str(item.pages)\n",
    "        tex+= r'} '\n",
    "        if(item.year!=0):\n",
    "            tex+='(' + str(int(item.year)) + ')'\n",
    "        tex+= '\\n\\n'\n",
    "        f.write(tex)\n",
    "    \n",
    "    tex='\\end{etaremune}'\n",
    "    f.write(tex)"
   ]
  },
  {
   "cell_type": "code",
   "execution_count": null,
   "metadata": {},
   "outputs": [],
   "source": []
  },
  {
   "cell_type": "code",
   "execution_count": null,
   "metadata": {},
   "outputs": [],
   "source": []
  }
 ],
 "metadata": {
  "kernelspec": {
   "display_name": "Python 3",
   "language": "python",
   "name": "python3"
  },
  "language_info": {
   "codemirror_mode": {
    "name": "ipython",
    "version": 3
   },
   "file_extension": ".py",
   "mimetype": "text/x-python",
   "name": "python",
   "nbconvert_exporter": "python",
   "pygments_lexer": "ipython3",
   "version": "3.8.8"
  }
 },
 "nbformat": 4,
 "nbformat_minor": 4
}
